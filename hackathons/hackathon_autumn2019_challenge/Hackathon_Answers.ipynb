{
 "cells": [
  {
   "cell_type": "markdown",
   "metadata": {},
   "source": [
    "### Inspiration and contributions\n",
    "\n",
    "The following challenge was inspired by _Python Machine Learning: 1st Edition_ by _Sebastian Raschka_.\n",
    "\n",
    "Contributions to coding challenge (alphabetically): Mateusz Bieniek (KCL, London, UK), Matthew Wai Heng Chung (KCL, London, UK), Lisa Grant (UCL, London, UK), Anna Laddach (Francis Crick Institute, London, UK), Marius Kausas (Francis Crick Institute & KCL, London, UK), Paul Smith (KCL, London, UK)."
   ]
  },
  {
   "cell_type": "markdown",
   "metadata": {},
   "source": [
    "### Data Hackathon Challenge\n",
    "\n",
    "Based on previous medical data, can we predict the diagnosis for the unseen breast cancer biopsy?\n",
    "\n",
    "Let's use Supervised Machine Learning to classify breast cancer biopsies as either benign or malignant. We'll use two different methods - Logistic Regression and Random Forests - and compare our models' predictive power to that of human specialists."
   ]
  },
  {
   "cell_type": "markdown",
   "metadata": {},
   "source": [
    "### Challenge data set\n",
    "\n",
    "1. Title: Mammographic Mass Data\n",
    "\n",
    "2. Sources:\n",
    "\n",
    "   (a) Original owners of database:\n",
    "        Prof. Dr. Reudiger Schulz-Wendtland\n",
    "        Institute of Radiology, Gynaecological Radiology, University Erlangen-Nuremberg\n",
    "        Universitaetsstrasse 21-23\n",
    "        91054 Erlangen, Germany\n",
    "        \n",
    "   (b) Donor of database:\n",
    "        Matthias Elter\n",
    "        Fraunhofer Institute for Integrated Circuits (IIS)\n",
    "        Image Processing and Medical Engineering Department (BMT) \n",
    "        Am Wolfsmantel 33\n",
    "        91058 Erlangen, Germany\n",
    "        matthias.elter@iis.fraunhofer.de\n",
    "        (49) 9131-7767327 \n",
    "        \n",
    "   (c) Date received: October 2007\n",
    " \n",
    "3. Past Usage:\n",
    "    M. Elter, R. Schulz-Wendtland and T. Wittenberg (2007)\n",
    "    The prediction of breast cancer biopsy outcomes using two CAD approaches that both emphasize an intelligible decision process.\n",
    "    Medical Physics 34(11), pp. 4164-4172\n",
    "\n",
    "4. Relevant Information:\n",
    "    Mammography is the most effective method for breast cancer screening\n",
    "    available today. However, the low positive predictive value of breast\n",
    "    biopsy resulting from mammogram interpretation leads to approximately\n",
    "    70% unnecessary biopsies with benign outcomes. To reduce the high\n",
    "    number of unnecessary breast biopsies, several computer-aided diagnosis\n",
    "    (CAD) systems have been proposed in the last years.These systems\n",
    "    help physicians in their decision to perform a breast biopsy on a suspicious\n",
    "    lesion seen in a mammogram or to perform a short term follow-up\n",
    "    examination instead.\n",
    "    This data set can be used to predict the severity (benign or malignant)\n",
    "    of a mammographic mass lesion from BI-RADS attributes and the patient's age.\n",
    "    It contains a BI-RADS assessment, the patient's age and three BI-RADS attributes\n",
    "    together with the ground truth (the severity field) for 516 benign and\n",
    "    445 malignant masses that have been identified on full field digital mammograms\n",
    "    collected at the Institute of Radiology of the\n",
    "    University Erlangen-Nuremberg between 2003 and 2006.\n",
    "    Each instance has an associated BI-RADS assessment ranging from 1 (definitely benign)\n",
    "    to 5 (highly suggestive of malignancy) assigned in a double-review process by\n",
    "    physicians. Assuming that all cases with BI-RADS assessments greater or equal\n",
    "    a given value (varying from 1 to 5), are malignant and the other cases benign,\n",
    "    sensitivities and associated specificities can be calculated. These can be an\n",
    "    indication of how well a CAD system performs compared to the radiologists.\n",
    "\n",
    "5. Number of Instances: 961\n",
    "\n",
    "6. Number of Attributes: 6 (1 goal field, 1 non-predictive, 4 predictive attributes)\n",
    "\n",
    "7. Attribute Information:\n",
    "   1. BI-RADS assessment: 1 to 5 (ordinal)  \n",
    "   2. Age: patient's age in years (integer)\n",
    "   3. Shape: mass shape: round=1 oval=2 lobular=3 irregular=4 (nominal)\n",
    "   4. Margin: mass margin: circumscribed=1 microlobulated=2 obscured=3 ill-defined=4 spiculated=5 (nominal)\n",
    "   5. Density: mass density high=1 iso=2 low=3 fat-containing=4 (ordinal)\n",
    "   6. Severity: benign=0 or malignant=1 (binominal)\n",
    "\n",
    "8. Missing Attribute Values: Yes\n",
    "    - BI-RADS assessment:    2\n",
    "    - Age:                   5\n",
    "    - Shape:                31\n",
    "    - Margin:               48\n",
    "    - Density:              76\n",
    "    - Severity:              0\n",
    "\n",
    "9. Class Distribution: benign: 516; malignant: 445\n",
    "\n",
    "For more information, please follow to: [UCI Machine Learning Repository](http://archive.ics.uci.edu/ml/datasets/mammographic+mass)"
   ]
  },
  {
   "cell_type": "markdown",
   "metadata": {},
   "source": [
    "### Data Hackathon tasks\n",
    "\n",
    "#### Interacting with Python libraries through Application Programming Interface (API)\n",
    "\n",
    "Your task is try to grasp the internal structure of Python libraries, how to interact with an API and look-up useful methods for your research.\n",
    "\n",
    "#### Data pre-processing\n",
    "\n",
    "Your task is understand the nature of the dataset. Can you tell what will give you most predictive power?\n",
    "\n",
    "1. Understand what type of data do you have.\n",
    "2. Check for missing data values.\n",
    "3. Investigate dataset values by plotting histograms or scatter plots.\n",
    "\n",
    "#### Data encoding\n",
    "\n",
    "Why would you want to encode your data labels?\n",
    "\n",
    "#### Data preparation\n",
    "\n",
    "Why data preparation is important?\n",
    "\n",
    "1. Why we need training and tests sets?\n",
    "2. How does one split data into training and test sets using _scikit-learn_?\n",
    "\n",
    "#### Correlations\n",
    "\n",
    "Why would you investigate your data using correlations?\n",
    "\n",
    "1. What types of correlation there are?\n",
    "2. Using _scipy_ or _pandas_, calculate various types of correlations between any given two features.\n",
    "3. Calculate pair-wise correlations between dataset features and plot a heatmap using.\n",
    "\n",
    "#### Logistic regression\n",
    "\n",
    "Perform Logistic Regression.\n",
    "\n",
    "1. What is a Logistic Regression?\n",
    "2. What are the differences between Linear and Logistic regression?\n",
    "3. What are advantages and disadvantages of the method?\n",
    "4. Using _scikit-learn_, how do you set-up a Logistic Regression?\n",
    "\n",
    "#### Random Forests\n",
    "\n",
    "Investigate the use of Random Trees/Forests for data classification.\n",
    "\n",
    "1. What are Random Forests?\n",
    "2. What are advantages and disadvantages of the method?\n",
    "3. Using _scikit-learn_, how do you set-up a Random Forest model?\n",
    "4. How do you get feature importance from Random Forests?\n",
    "5. How would you optimize Random Forests' hyperparameters?\n",
    "\n",
    "#### Model performance\n",
    "\n",
    "What statistical measures can be used to quantify models performance?\n",
    "\n",
    "Investigate the following metrics:\n",
    "\n",
    "1. Accuracy.\n",
    "2. Precision.\n",
    "3. Recall.\n",
    "4. F1 score.\n",
    "5. Receiver operator characteristic (ROC).\n",
    "6. Area under the curve (AUC).\n",
    "7. Matthew's correlation coefficient.\n",
    "8. Confusion matrix.\n",
    "9. Out-of-bag error.\n",
    "\n",
    "#### Plotting\n",
    "\n",
    "Basics of _matloptlib_ and _seaborn_:\n",
    "\n",
    "1. Learn how to generate a basic plot.\n",
    "2. Change default _matplotlib_ or _seaborn_ plotting styles.\n",
    "3. Set basic plot attributes, such as labels, titles and colors.\n",
    "4. Save figures as .png format with a certain quality.\n",
    "5. Avoid typing plt.show() and set interactive plotting within IPython. \n",
    "6. Change figure dimensions within Ipython.\n",
    "\n",
    "#### Too easy?\n",
    "\n",
    "Cross-compare the performance of available classification algorithms and tell which works the best!"
   ]
  },
  {
   "cell_type": "markdown",
   "metadata": {},
   "source": [
    "#### Learning material for this Hackathon\n",
    "\n",
    "* _scikit_learn_ tutorial: [text](https://scikit-learn.org/stable/tutorial/index.html)\n",
    "* Logistic Regression: [video](https://www.youtube.com/watch?v=yIYKR4sgzI8)\n",
    "* Decision Trees:[video](https://www.youtube.com/watch?v=7VeUPuFGJHk)\n",
    "* Random Forests: [video](https://www.youtube.com/watch?v=J4Wdy0Wc_xQ)"
   ]
  },
  {
   "cell_type": "markdown",
   "metadata": {},
   "source": [
    "#### Loading Python libraries"
   ]
  },
  {
   "cell_type": "code",
   "execution_count": 1,
   "metadata": {},
   "outputs": [],
   "source": [
    "# Data manipulation libraries\n",
    "import numpy as np\n",
    "import pandas as pd\n",
    "\n",
    "# Correlation coefficients\n",
    "from scipy import stats\n",
    "\n",
    "# Metrics\n",
    "from sklearn.metrics import mean_squared_error, accuracy_score, precision_score, recall_score\n",
    "from sklearn.metrics import roc_curve, f1_score, roc_auc_score, matthews_corrcoef, confusion_matrix\n",
    "from sklearn.metrics import classification_report\n",
    "\n",
    "# Data pre-processing\n",
    "from sklearn.preprocessing import LabelEncoder\n",
    "from sklearn.model_selection import train_test_split\n",
    "\n",
    "# Regression models\n",
    "from sklearn.linear_model import LogisticRegression\n",
    "\n",
    "# Random Forests\n",
    "from sklearn.ensemble import RandomForestClassifier\n",
    "from sklearn.model_selection import GridSearchCV\n",
    "\n",
    "# Plotting libraries\n",
    "import matplotlib.pyplot as plt\n",
    "plt.style.use(\"ggplot\")                    # Set Matplotlib styling\n",
    "from matplotlib.pylab import rcParams      \n",
    "rcParams['figure.figsize'] = 10, 9          # Set figure size\n",
    "import seaborn as sns"
   ]
  },
  {
   "cell_type": "markdown",
   "metadata": {},
   "source": [
    "#### Data loading and processing\n",
    "\n",
    "In the beginning of every data analysis project, one must pre-process available data. Usually the pre-processing involves raw data inspection, visualization, dealing with missing values and preparing correct input for machine learning algortithms. If the data is from a publicly available research repository, reading the associated research articles often is very useful. \n",
    "\n",
    "The role of a researcher is to investigate and understand the available data set and choose the most appropriate modelling technique for the investigation of a given hypothesis. \n",
    "\n",
    "Thus, one would need to invest a considerable amount of time on the following section.  \n",
    " \n",
    "In this section, we will use _pandas_ and _numpy_ functionallities to load the [Mammographic Masses dataset](http://archive.ics.uci.edu/ml/datasets/mammographic+mass) and prepare the correct input for a machine learning model in _scikit_learn_.\n",
    "\n",
    "The data set of interest contains some missing values and some outliers. Can you detect them? How would you proceed?"
   ]
  },
  {
   "cell_type": "code",
   "execution_count": 2,
   "metadata": {},
   "outputs": [
    {
     "name": "stdout",
     "output_type": "stream",
     "text": [
      "Hackathon_Answers.ipynb  input-data\n"
     ]
    }
   ],
   "source": [
    "# List current directory files\n",
    "!ls"
   ]
  },
  {
   "cell_type": "code",
   "execution_count": 3,
   "metadata": {},
   "outputs": [],
   "source": [
    "# Define column names\n",
    "df_col_names = [\"BI-RADS assessment\", \"Age\", \"Shape\", \"Margin\", \"Density\", \"Severity\"]"
   ]
  },
  {
   "cell_type": "markdown",
   "metadata": {},
   "source": [
    "Have you really understood the types of data you have?"
   ]
  },
  {
   "cell_type": "markdown",
   "metadata": {},
   "source": [
    "__Tasks:__\n",
    "\n",
    "- Using _pandas_, load mammographics_masses.data file."
   ]
  },
  {
   "cell_type": "code",
   "execution_count": 4,
   "metadata": {},
   "outputs": [],
   "source": [
    "# Load the data\n",
    "df = pd.read_csv(\"./input-data/mammographic_masses.data\", names = df_col_names)"
   ]
  },
  {
   "cell_type": "markdown",
   "metadata": {},
   "source": [
    "__Tasks:__\n",
    "\n",
    "- Inspect underlying data set for missing values - what are they?\n",
    "- Check which columns contain missing values."
   ]
  },
  {
   "cell_type": "code",
   "execution_count": 5,
   "metadata": {},
   "outputs": [
    {
     "data": {
      "text/html": [
       "<div>\n",
       "<style scoped>\n",
       "    .dataframe tbody tr th:only-of-type {\n",
       "        vertical-align: middle;\n",
       "    }\n",
       "\n",
       "    .dataframe tbody tr th {\n",
       "        vertical-align: top;\n",
       "    }\n",
       "\n",
       "    .dataframe thead th {\n",
       "        text-align: right;\n",
       "    }\n",
       "</style>\n",
       "<table border=\"1\" class=\"dataframe\">\n",
       "  <thead>\n",
       "    <tr style=\"text-align: right;\">\n",
       "      <th></th>\n",
       "      <th>BI-RADS assessment</th>\n",
       "      <th>Age</th>\n",
       "      <th>Shape</th>\n",
       "      <th>Margin</th>\n",
       "      <th>Density</th>\n",
       "      <th>Severity</th>\n",
       "    </tr>\n",
       "  </thead>\n",
       "  <tbody>\n",
       "    <tr>\n",
       "      <th>0</th>\n",
       "      <td>5</td>\n",
       "      <td>67</td>\n",
       "      <td>3</td>\n",
       "      <td>5</td>\n",
       "      <td>3</td>\n",
       "      <td>1</td>\n",
       "    </tr>\n",
       "    <tr>\n",
       "      <th>1</th>\n",
       "      <td>4</td>\n",
       "      <td>43</td>\n",
       "      <td>1</td>\n",
       "      <td>1</td>\n",
       "      <td>?</td>\n",
       "      <td>1</td>\n",
       "    </tr>\n",
       "    <tr>\n",
       "      <th>2</th>\n",
       "      <td>5</td>\n",
       "      <td>58</td>\n",
       "      <td>4</td>\n",
       "      <td>5</td>\n",
       "      <td>3</td>\n",
       "      <td>1</td>\n",
       "    </tr>\n",
       "    <tr>\n",
       "      <th>3</th>\n",
       "      <td>4</td>\n",
       "      <td>28</td>\n",
       "      <td>1</td>\n",
       "      <td>1</td>\n",
       "      <td>3</td>\n",
       "      <td>0</td>\n",
       "    </tr>\n",
       "    <tr>\n",
       "      <th>4</th>\n",
       "      <td>5</td>\n",
       "      <td>74</td>\n",
       "      <td>1</td>\n",
       "      <td>5</td>\n",
       "      <td>?</td>\n",
       "      <td>1</td>\n",
       "    </tr>\n",
       "  </tbody>\n",
       "</table>\n",
       "</div>"
      ],
      "text/plain": [
       "  BI-RADS assessment Age Shape Margin Density  Severity\n",
       "0                  5  67     3      5       3         1\n",
       "1                  4  43     1      1       ?         1\n",
       "2                  5  58     4      5       3         1\n",
       "3                  4  28     1      1       3         0\n",
       "4                  5  74     1      5       ?         1"
      ]
     },
     "execution_count": 5,
     "metadata": {},
     "output_type": "execute_result"
    }
   ],
   "source": [
    "df.head()"
   ]
  },
  {
   "cell_type": "code",
   "execution_count": 6,
   "metadata": {},
   "outputs": [
    {
     "name": "stdout",
     "output_type": "stream",
     "text": [
      "BI-RADS assessment True\n",
      "Age True\n",
      "Shape True\n",
      "Margin True\n",
      "Density True\n",
      "Severity False\n"
     ]
    },
    {
     "name": "stderr",
     "output_type": "stream",
     "text": [
      "/home/mariusk/anaconda3/lib/python3.7/site-packages/ipykernel_launcher.py:3: FutureWarning: elementwise comparison failed; returning scalar instead, but in the future will perform elementwise comparison\n",
      "  This is separate from the ipykernel package so we can avoid doing imports until\n"
     ]
    }
   ],
   "source": [
    "# Check which columns contain missing values\n",
    "for column in df.columns:\n",
    "    print(column, \"?\" in df[column].values)"
   ]
  },
  {
   "cell_type": "markdown",
   "metadata": {},
   "source": [
    "__Tasks:__\n",
    "\n",
    "- Identify indices of rows that contain missing values."
   ]
  },
  {
   "cell_type": "code",
   "execution_count": 9,
   "metadata": {},
   "outputs": [],
   "source": [
    "# Iterate over pandas DataFrame rows\n",
    "inds = []\n",
    "for i, row in df.iterrows():\n",
    "    if \"?\" in row.values:\n",
    "        inds.append(i)"
   ]
  },
  {
   "cell_type": "code",
   "execution_count": 10,
   "metadata": {},
   "outputs": [],
   "source": [
    "# List comprehension method\n",
    "# inds = [i for i, row in df.iterrows() if \"?\" in row.values]"
   ]
  },
  {
   "cell_type": "code",
   "execution_count": 8,
   "metadata": {},
   "outputs": [
    {
     "data": {
      "text/plain": [
       "[1,\n",
       " 4,\n",
       " 5,\n",
       " 6,\n",
       " 7,\n",
       " 9,\n",
       " 12,\n",
       " 19,\n",
       " 20,\n",
       " 22,\n",
       " 26,\n",
       " 27,\n",
       " 35,\n",
       " 38,\n",
       " 40,\n",
       " 43,\n",
       " 45,\n",
       " 47,\n",
       " 48,\n",
       " 52,\n",
       " 53,\n",
       " 54,\n",
       " 55,\n",
       " 57,\n",
       " 58,\n",
       " 59,\n",
       " 63,\n",
       " 65,\n",
       " 67,\n",
       " 74,\n",
       " 83,\n",
       " 84,\n",
       " 85,\n",
       " 87,\n",
       " 88,\n",
       " 92,\n",
       " 94,\n",
       " 96,\n",
       " 97,\n",
       " 100,\n",
       " 101,\n",
       " 102,\n",
       " 103,\n",
       " 104,\n",
       " 105,\n",
       " 106,\n",
       " 107,\n",
       " 109,\n",
       " 113,\n",
       " 114,\n",
       " 116,\n",
       " 121,\n",
       " 126,\n",
       " 127,\n",
       " 128,\n",
       " 133,\n",
       " 142,\n",
       " 144,\n",
       " 147,\n",
       " 156,\n",
       " 157,\n",
       " 158,\n",
       " 159,\n",
       " 163,\n",
       " 171,\n",
       " 176,\n",
       " 184,\n",
       " 187,\n",
       " 208,\n",
       " 209,\n",
       " 212,\n",
       " 218,\n",
       " 227,\n",
       " 236,\n",
       " 255,\n",
       " 262,\n",
       " 277,\n",
       " 278,\n",
       " 285,\n",
       " 298,\n",
       " 305,\n",
       " 315,\n",
       " 339,\n",
       " 351,\n",
       " 359,\n",
       " 371,\n",
       " 372,\n",
       " 375,\n",
       " 387,\n",
       " 388,\n",
       " 389,\n",
       " 394,\n",
       " 421,\n",
       " 443,\n",
       " 452,\n",
       " 453,\n",
       " 459,\n",
       " 460,\n",
       " 464,\n",
       " 476,\n",
       " 494,\n",
       " 496,\n",
       " 501,\n",
       " 519,\n",
       " 520,\n",
       " 521,\n",
       " 531,\n",
       " 537,\n",
       " 541,\n",
       " 554,\n",
       " 561,\n",
       " 569,\n",
       " 574,\n",
       " 581,\n",
       " 614,\n",
       " 627,\n",
       " 660,\n",
       " 661,\n",
       " 662,\n",
       " 665,\n",
       " 677,\n",
       " 683,\n",
       " 691,\n",
       " 723,\n",
       " 745,\n",
       " 752,\n",
       " 778,\n",
       " 819,\n",
       " 824,\n",
       " 884,\n",
       " 923]"
      ]
     },
     "execution_count": 8,
     "metadata": {},
     "output_type": "execute_result"
    }
   ],
   "source": [
    "inds"
   ]
  },
  {
   "cell_type": "markdown",
   "metadata": {},
   "source": [
    "__Tasks:__\n",
    "\n",
    "- Separate your initial data set into complete and missing data sets.\n",
    "\n",
    "___Hint:___ Given the fact that _pandas_ are built connected to a _numpy_ interface, we can start working with _numpy_ arrays. \n",
    "\n",
    "To separate two data sets, we can generate a so-called \"mask\". In our case, \"mask\" will be a boolean array with True or False values indicating present and missing values, respectively. \n",
    "\n",
    "Due to the _numpy_ indexing ability, use the mask to extract complete data set. Subsequently, use the previously extracted indices to extract missing data set. "
   ]
  },
  {
   "cell_type": "code",
   "execution_count": 11,
   "metadata": {},
   "outputs": [],
   "source": [
    "# Create a mask\n",
    "mask = np.ones(len(df.values), np.bool)\n",
    "mask[inds] = 0"
   ]
  },
  {
   "cell_type": "code",
   "execution_count": 12,
   "metadata": {},
   "outputs": [],
   "source": [
    "# Complete data \n",
    "complete_data = df.values[mask]"
   ]
  },
  {
   "cell_type": "code",
   "execution_count": 13,
   "metadata": {},
   "outputs": [],
   "source": [
    "# Missing data\n",
    "missing_data = df.values[inds]"
   ]
  },
  {
   "cell_type": "code",
   "execution_count": 14,
   "metadata": {},
   "outputs": [],
   "source": [
    "# Convert complete data numpy array string values to float64 representation\n",
    "complete_data = np.asarray(complete_data, dtype=np.float64)"
   ]
  },
  {
   "cell_type": "markdown",
   "metadata": {},
   "source": [
    "__Tasks:__\n",
    "\n",
    "-  From hereon, we are focusing on the complete data set. Given enough time, you should tihink about how to treat missing data and incorporate additional information into your model.\n",
    "- Separate features and diagnosis columns."
   ]
  },
  {
   "cell_type": "code",
   "execution_count": 15,
   "metadata": {},
   "outputs": [],
   "source": [
    "# Separate into features and diagnosis\n",
    "features = complete_data[:, :5]\n",
    "diagnosis = complete_data[:, 5:] # benign=0 or malignant=1"
   ]
  },
  {
   "cell_type": "markdown",
   "metadata": {},
   "source": [
    "__Tasks:__\n",
    "\n",
    "- Perform summary statistics on the feature data set.\n",
    "- To do that convert features array back to _pandas_ DataFrame and search for its summary statistics method."
   ]
  },
  {
   "cell_type": "code",
   "execution_count": 16,
   "metadata": {},
   "outputs": [],
   "source": [
    "# Convert numpy array back to a pandas dataframe\n",
    "df_features = pd.DataFrame(features, columns=df.columns[:-1])"
   ]
  },
  {
   "cell_type": "code",
   "execution_count": 17,
   "metadata": {},
   "outputs": [
    {
     "data": {
      "text/html": [
       "<div>\n",
       "<style scoped>\n",
       "    .dataframe tbody tr th:only-of-type {\n",
       "        vertical-align: middle;\n",
       "    }\n",
       "\n",
       "    .dataframe tbody tr th {\n",
       "        vertical-align: top;\n",
       "    }\n",
       "\n",
       "    .dataframe thead th {\n",
       "        text-align: right;\n",
       "    }\n",
       "</style>\n",
       "<table border=\"1\" class=\"dataframe\">\n",
       "  <thead>\n",
       "    <tr style=\"text-align: right;\">\n",
       "      <th></th>\n",
       "      <th>BI-RADS assessment</th>\n",
       "      <th>Age</th>\n",
       "      <th>Shape</th>\n",
       "      <th>Margin</th>\n",
       "      <th>Density</th>\n",
       "    </tr>\n",
       "  </thead>\n",
       "  <tbody>\n",
       "    <tr>\n",
       "      <th>count</th>\n",
       "      <td>830.000000</td>\n",
       "      <td>830.000000</td>\n",
       "      <td>830.000000</td>\n",
       "      <td>830.000000</td>\n",
       "      <td>830.000000</td>\n",
       "    </tr>\n",
       "    <tr>\n",
       "      <th>mean</th>\n",
       "      <td>4.393976</td>\n",
       "      <td>55.781928</td>\n",
       "      <td>2.781928</td>\n",
       "      <td>2.813253</td>\n",
       "      <td>2.915663</td>\n",
       "    </tr>\n",
       "    <tr>\n",
       "      <th>std</th>\n",
       "      <td>1.888371</td>\n",
       "      <td>14.671782</td>\n",
       "      <td>1.242361</td>\n",
       "      <td>1.567175</td>\n",
       "      <td>0.350936</td>\n",
       "    </tr>\n",
       "    <tr>\n",
       "      <th>min</th>\n",
       "      <td>0.000000</td>\n",
       "      <td>18.000000</td>\n",
       "      <td>1.000000</td>\n",
       "      <td>1.000000</td>\n",
       "      <td>1.000000</td>\n",
       "    </tr>\n",
       "    <tr>\n",
       "      <th>25%</th>\n",
       "      <td>4.000000</td>\n",
       "      <td>46.000000</td>\n",
       "      <td>2.000000</td>\n",
       "      <td>1.000000</td>\n",
       "      <td>3.000000</td>\n",
       "    </tr>\n",
       "    <tr>\n",
       "      <th>50%</th>\n",
       "      <td>4.000000</td>\n",
       "      <td>57.000000</td>\n",
       "      <td>3.000000</td>\n",
       "      <td>3.000000</td>\n",
       "      <td>3.000000</td>\n",
       "    </tr>\n",
       "    <tr>\n",
       "      <th>75%</th>\n",
       "      <td>5.000000</td>\n",
       "      <td>66.000000</td>\n",
       "      <td>4.000000</td>\n",
       "      <td>4.000000</td>\n",
       "      <td>3.000000</td>\n",
       "    </tr>\n",
       "    <tr>\n",
       "      <th>max</th>\n",
       "      <td>55.000000</td>\n",
       "      <td>96.000000</td>\n",
       "      <td>4.000000</td>\n",
       "      <td>5.000000</td>\n",
       "      <td>4.000000</td>\n",
       "    </tr>\n",
       "  </tbody>\n",
       "</table>\n",
       "</div>"
      ],
      "text/plain": [
       "       BI-RADS assessment         Age       Shape      Margin     Density\n",
       "count          830.000000  830.000000  830.000000  830.000000  830.000000\n",
       "mean             4.393976   55.781928    2.781928    2.813253    2.915663\n",
       "std              1.888371   14.671782    1.242361    1.567175    0.350936\n",
       "min              0.000000   18.000000    1.000000    1.000000    1.000000\n",
       "25%              4.000000   46.000000    2.000000    1.000000    3.000000\n",
       "50%              4.000000   57.000000    3.000000    3.000000    3.000000\n",
       "75%              5.000000   66.000000    4.000000    4.000000    3.000000\n",
       "max             55.000000   96.000000    4.000000    5.000000    4.000000"
      ]
     },
     "execution_count": 17,
     "metadata": {},
     "output_type": "execute_result"
    }
   ],
   "source": [
    "# Get summary statistics\n",
    "df_features.describe()"
   ]
  },
  {
   "cell_type": "markdown",
   "metadata": {},
   "source": [
    "__Tasks:__\n",
    "\n",
    "- Perform visual inspection of your data set by plotting all values of a single column as a distribution, bar or histogram plots. Plot scatter plots between two different features. Plot anything that might give you a better understanding about your data set.\n",
    "\n",
    "- Which plots are suited for which data?\n",
    "\n",
    "- Investigate what one can plot using _matplotlib_ and _seaborn_ visualisation libraries. As _seaborn_ provides a high-level interface to _matplotlib_, it is suggested to start of with _seaborn_."
   ]
  },
  {
   "cell_type": "code",
   "execution_count": 31,
   "metadata": {},
   "outputs": [
    {
     "data": {
      "text/plain": [
       "<matplotlib.axes._subplots.AxesSubplot at 0x7f390219f978>"
      ]
     },
     "execution_count": 31,
     "metadata": {},
     "output_type": "execute_result"
    },
    {
     "data": {
      "image/png": "[encoded data removed]",
      "text/plain": [
       "<Figure size 432x288 with 1 Axes>"
      ]
     },
     "metadata": {
      "needs_background": "light"
     },
     "output_type": "display_data"
    }
   ],
   "source": [
    "# Visualize single feature values as a bar plot\n",
    "sns.barplot(x='Margin', y='Margin', data=df_features, estimator=np.count_nonzero)"
   ]
  },
  {
   "cell_type": "code",
   "execution_count": 30,
   "metadata": {},
   "outputs": [
    {
     "data": {
      "image/png": "[encoded data removed]",
      "text/plain": [
       "<Figure size 432x288 with 1 Axes>"
      ]
     },
     "metadata": {
      "needs_background": "light"
     },
     "output_type": "display_data"
    }
   ],
   "source": [
    "# another bar plot\n",
    "sns.countplot(df_features['Margin'])\n",
    "plt.xticks(range(5), ['circumscribed', 'microlobulated', 'obscured', 'ill-defined', 'spiculated'] )\n",
    "plt.tight_layout()"
   ]
  },
  {
   "cell_type": "markdown",
   "metadata": {},
   "source": [
    "__Tasks:__\n",
    "\n",
    "- Perfom a cross-correlation analysis of your features. Investigate which features do or not cross-correlate. Given all you know about the data set, can you tell why do you observe such behaviour?\n",
    "\n",
    "- Perhaps, can you tell which features will be more important in modelling cancer biopsy outcomes?\n",
    "\n",
    "- What assumptions are used to calculate correlation scores? Why they might be important here?"
   ]
  },
  {
   "cell_type": "code",
   "execution_count": 27,
   "metadata": {},
   "outputs": [
    {
     "data": {
      "text/plain": [
       "<matplotlib.axes._subplots.AxesSubplot at 0x7f390233dc50>"
      ]
     },
     "execution_count": 27,
     "metadata": {},
     "output_type": "execute_result"
    },
    {
     "data": {
      "image/png": "[encoded data removed]",
      "text/plain": [
       "<Figure size 432x288 with 2 Axes>"
      ]
     },
     "metadata": {
      "needs_background": "light"
     },
     "output_type": "display_data"
    }
   ],
   "source": [
    "# Correlation heatmap using pandas and seaborn functionalities\n",
    "sns.heatmap(df_features.corr(\"pearson\"), vmin=-1, vmax=1, cmap=\"RdBu\", annot=True,\n",
    "           xticklabels=df_features.columns,\n",
    "           yticklabels=df_features.columns)"
   ]
  },
  {
   "cell_type": "code",
   "execution_count": 28,
   "metadata": {},
   "outputs": [],
   "source": [
    "# Manual calculation by creating empty numpy array and assigning correlation coefficients\n",
    "\n",
    "# Set the number of features\n",
    "num_features = features.shape[1]\n",
    "\n",
    "# Define a zero 2D numpy matrix of shape (number_of_features, number_of_features)\n",
    "correl_mat = np.zeros((num_features, num_features))\n",
    "\n",
    "# Calculate pair-wise correlations between each features\n",
    "for i in range(num_features):\n",
    "    for j in range(num_features):\n",
    "        correl_mat[i,j] = stats.pearsonr(features[:,i:i+1].T[0], features[:, j:j+1].T[0])[0]"
   ]
  },
  {
   "cell_type": "code",
   "execution_count": 29,
   "metadata": {},
   "outputs": [
    {
     "data": {
      "text/plain": [
       "Text(0.5, 1, 'Pairwise Pearson correlations between dataset features')"
      ]
     },
     "execution_count": 29,
     "metadata": {},
     "output_type": "execute_result"
    },
    {
     "data": {
      "image/png": "[encoded data removed]",
      "text/plain": [
       "<Figure size 432x288 with 2 Axes>"
      ]
     },
     "metadata": {
      "needs_background": "light"
     },
     "output_type": "display_data"
    }
   ],
   "source": [
    "# Plot heatmaps of pair-wise correlations\n",
    "sns.heatmap(correl_mat, vmin=-1, vmax=1, cmap=\"RdBu\", annot=True)\n",
    "plt.xlabel(\"Features\")\n",
    "plt.ylabel(\"Features\")\n",
    "plt.title(\"Pairwise Pearson correlations between dataset features\")"
   ]
  },
  {
   "cell_type": "markdown",
   "metadata": {},
   "source": [
    "#### Preparation of training and test data sets\n",
    "\n",
    "In this section, we will prepare training and test data sets. We will train our selected machine learning models on a training data set (i.e a subset of the complete data set). Once, training is complete, we will predict diagnosis outcomes of a test data set (i.e the rest of the complete data set).\n",
    "\n",
    "Preparation of training and test sets is a crucial point of a machine learning protocols that will allow us to quantify how well our model works. We will be able to quantify model's performance using a set of statistical metrics."
   ]
  },
  {
   "cell_type": "markdown",
   "metadata": {},
   "source": [
    "__Tasks:__\n",
    "\n",
    "- Transform diagnosis data set into appropriate labels: benign=0 or malignant=1. Use the available functionality of LabelEncoder() to do that, even, if the initial diagnosis data set has the right labels. LabelEncoder() will return data in a right array shape."
   ]
  },
  {
   "cell_type": "code",
   "execution_count": 34,
   "metadata": {},
   "outputs": [
    {
     "name": "stderr",
     "output_type": "stream",
     "text": [
      "/home/mariusk/anaconda3/lib/python3.7/site-packages/sklearn/preprocessing/label.py:235: DataConversionWarning: A column-vector y was passed when a 1d array was expected. Please change the shape of y to (n_samples, ), for example using ravel().\n",
      "  y = column_or_1d(y, warn=True)\n"
     ]
    }
   ],
   "source": [
    "diagnosis = LabelEncoder().fit_transform(diagnosis)"
   ]
  },
  {
   "cell_type": "code",
   "execution_count": 35,
   "metadata": {},
   "outputs": [
    {
     "data": {
      "text/plain": [
       "array([1, 1, 0, 1, 1, 1, 0, 0, 0, 0, 1, 1, 1, 1, 1, 1, 1, 0, 0, 1, 1, 0,\n",
       "       0, 0, 1, 0, 0, 0, 1, 1, 1, 0, 1, 0, 1, 1, 0, 1, 0, 0, 0, 0, 1, 0,\n",
       "       1, 0, 1, 0, 1, 0, 0, 1, 1, 1, 1, 1, 1, 1, 1, 0, 0, 0, 0, 1, 0, 0,\n",
       "       0, 1, 0, 1, 0, 0, 0, 0, 1, 1, 1, 0, 1, 1, 1, 1, 0, 1, 1, 0, 0, 1,\n",
       "       1, 1, 0, 1, 1, 0, 0, 0, 0, 1, 0, 0, 0, 1, 1, 0, 1, 1, 0, 0, 0, 0,\n",
       "       1, 0, 0, 1, 0, 0, 0, 0, 1, 1, 1, 1, 0, 1, 0, 1, 0, 1, 0, 1, 0, 0,\n",
       "       0, 0, 1, 0, 0, 1, 0, 1, 0, 0, 1, 1, 0, 0, 0, 0, 0, 0, 1, 1, 1, 0,\n",
       "       1, 0, 0, 0, 1, 1, 0, 1, 0, 0, 1, 0, 1, 0, 0, 0, 1, 0, 0, 1, 0, 0,\n",
       "       0, 1, 0, 1, 1, 1, 1, 1, 1, 1, 0, 0, 1, 0, 1, 0, 1, 1, 1, 1, 1, 0,\n",
       "       1, 0, 1, 0, 1, 0, 0, 1, 1, 0, 0, 1, 0, 1, 0, 1, 1, 0, 1, 0, 1, 1,\n",
       "       1, 0, 0, 0, 0, 0, 0, 0, 0, 1, 1, 1, 1, 0, 0, 0, 0, 1, 1, 1, 0, 1,\n",
       "       0, 0, 0, 0, 1, 1, 1, 0, 1, 1, 0, 1, 1, 1, 1, 1, 1, 0, 0, 0, 1, 0,\n",
       "       1, 0, 0, 1, 0, 0, 1, 0, 0, 1, 1, 1, 1, 0, 1, 0, 0, 0, 1, 1, 1, 1,\n",
       "       0, 1, 0, 1, 0, 1, 0, 1, 1, 0, 0, 1, 0, 1, 1, 0, 0, 1, 1, 0, 0, 1,\n",
       "       0, 1, 0, 1, 1, 1, 1, 0, 0, 1, 0, 1, 0, 1, 1, 1, 0, 1, 1, 1, 1, 0,\n",
       "       0, 1, 0, 1, 0, 1, 1, 0, 1, 0, 1, 1, 1, 1, 1, 0, 1, 1, 1, 0, 1, 1,\n",
       "       0, 0, 1, 1, 1, 0, 0, 0, 1, 1, 1, 0, 1, 0, 0, 1, 1, 0, 1, 0, 1, 0,\n",
       "       0, 0, 0, 0, 1, 0, 1, 0, 0, 0, 0, 0, 0, 1, 1, 0, 1, 1, 1, 1, 1, 0,\n",
       "       0, 1, 0, 0, 0, 0, 0, 1, 1, 1, 1, 0, 0, 1, 1, 1, 0, 0, 1, 0, 1, 0,\n",
       "       0, 1, 1, 1, 0, 1, 0, 0, 0, 0, 1, 0, 1, 0, 0, 0, 1, 1, 0, 0, 1, 1,\n",
       "       1, 1, 0, 0, 0, 0, 0, 1, 0, 1, 1, 0, 0, 1, 1, 0, 0, 0, 0, 0, 0, 0,\n",
       "       1, 0, 0, 1, 0, 0, 0, 1, 0, 0, 0, 0, 1, 1, 0, 1, 1, 0, 0, 0, 1, 0,\n",
       "       1, 1, 0, 1, 1, 1, 0, 1, 1, 0, 0, 1, 1, 1, 0, 1, 0, 1, 0, 1, 0, 0,\n",
       "       0, 0, 1, 1, 0, 1, 0, 0, 0, 0, 0, 1, 0, 1, 0, 0, 0, 1, 1, 0, 1, 0,\n",
       "       0, 0, 1, 0, 0, 1, 0, 1, 0, 1, 0, 1, 1, 0, 0, 1, 1, 1, 0, 0, 1, 0,\n",
       "       1, 1, 1, 1, 1, 1, 1, 1, 0, 0, 0, 0, 1, 1, 1, 1, 1, 1, 0, 1, 1, 0,\n",
       "       0, 0, 1, 0, 1, 1, 1, 0, 1, 0, 1, 0, 0, 1, 0, 0, 0, 1, 1, 0, 0, 0,\n",
       "       1, 1, 0, 0, 0, 1, 1, 0, 1, 1, 0, 0, 1, 1, 0, 0, 0, 0, 0, 1, 0, 0,\n",
       "       0, 0, 0, 0, 0, 1, 0, 1, 0, 0, 0, 1, 0, 0, 1, 1, 1, 1, 0, 1, 1, 1,\n",
       "       0, 1, 1, 0, 0, 1, 0, 0, 1, 0, 1, 0, 0, 0, 0, 0, 0, 1, 1, 0, 1, 0,\n",
       "       1, 1, 0, 0, 1, 1, 0, 0, 1, 1, 1, 0, 1, 1, 1, 0, 0, 0, 1, 1, 0, 1,\n",
       "       0, 1, 1, 1, 0, 1, 0, 0, 0, 0, 1, 0, 0, 1, 0, 1, 1, 0, 1, 1, 0, 1,\n",
       "       1, 0, 1, 0, 1, 0, 0, 0, 0, 1, 0, 0, 0, 0, 0, 1, 0, 0, 1, 0, 0, 1,\n",
       "       0, 1, 0, 1, 1, 1, 1, 1, 1, 1, 0, 1, 0, 0, 0, 1, 0, 1, 1, 0, 0, 0,\n",
       "       0, 1, 0, 1, 1, 0, 1, 1, 0, 1, 1, 1, 1, 1, 1, 0, 0, 1, 0, 1, 0, 1,\n",
       "       1, 1, 0, 1, 1, 0, 0, 1, 1, 0, 1, 0, 1, 0, 1, 0, 0, 1, 0, 0, 0, 1,\n",
       "       0, 1, 0, 1, 0, 1, 0, 0, 1, 0, 0, 0, 1, 0, 0, 0, 0, 1, 0, 1, 0, 1,\n",
       "       0, 0, 0, 1, 0, 1, 1, 1, 0, 0, 1, 0, 1, 0, 1, 0])"
      ]
     },
     "execution_count": 35,
     "metadata": {},
     "output_type": "execute_result"
    }
   ],
   "source": [
    "diagnosis"
   ]
  },
  {
   "cell_type": "markdown",
   "metadata": {},
   "source": [
    "__Tasks:__\n",
    "\n",
    "- Prepare training and test datasets using _scikit-learn_ by controlling the ration of data splitting.\n",
    "- Once you finish with a first classifier, investigate the effect of ratio splitting on your model's ability to predict the outcome of biopsy outcome. In such case, what is the minimum training data ratio is required to effectively predict biopsy outcome?"
   ]
  },
  {
   "cell_type": "code",
   "execution_count": 36,
   "metadata": {},
   "outputs": [],
   "source": [
    "# Define the proportion between training and test datasets\n",
    "proportion = 0.2\n",
    "\n",
    "# Split the dataset (random_state for analysis reproducibility)\n",
    "features_train, features_test, diagnosis_train, diagnosis_test = train_test_split(features, diagnosis, test_size=proportion, random_state=42) "
   ]
  },
  {
   "cell_type": "code",
   "execution_count": 37,
   "metadata": {},
   "outputs": [
    {
     "data": {
      "text/plain": [
       "((830, 5), (664, 5), (166, 5))"
      ]
     },
     "execution_count": 37,
     "metadata": {},
     "output_type": "execute_result"
    }
   ],
   "source": [
    "# Original data size vs train vs test\n",
    "features.shape, features_train.shape, features_test.shape"
   ]
  },
  {
   "cell_type": "code",
   "execution_count": 38,
   "metadata": {},
   "outputs": [
    {
     "data": {
      "text/plain": [
       "array([[ 5., 68.,  4.,  5.,  3.],\n",
       "       [ 4., 31.,  2.,  1.,  3.],\n",
       "       [ 5., 46.,  4.,  3.,  3.],\n",
       "       ...,\n",
       "       [ 5., 83.,  4.,  4.,  3.],\n",
       "       [ 5., 67.,  4.,  5.,  3.],\n",
       "       [ 4., 68.,  1.,  1.,  3.]])"
      ]
     },
     "execution_count": 38,
     "metadata": {},
     "output_type": "execute_result"
    }
   ],
   "source": [
    "features_train"
   ]
  },
  {
   "cell_type": "code",
   "execution_count": 39,
   "metadata": {},
   "outputs": [
    {
     "data": {
      "text/plain": [
       "array([[ 4., 59.,  1.,  1.,  3.],\n",
       "       [ 4., 44.,  2.,  1.,  3.],\n",
       "       [ 5., 55.,  4.,  5.,  3.],\n",
       "       [ 4., 24.,  2.,  1.,  3.],\n",
       "       [ 4., 46.,  1.,  1.,  3.],\n",
       "       [ 5., 74.,  3.,  2.,  3.],\n",
       "       [ 4., 53.,  4.,  5.,  3.],\n",
       "       [ 4., 47.,  1.,  1.,  2.],\n",
       "       [ 4., 32.,  1.,  1.,  3.],\n",
       "       [ 4., 62.,  4.,  4.,  3.],\n",
       "       [ 4., 54.,  4.,  5.,  3.],\n",
       "       [ 5., 72.,  4.,  5.,  3.],\n",
       "       [ 5., 42.,  4.,  5.,  3.],\n",
       "       [ 4., 62.,  2.,  4.,  3.],\n",
       "       [ 5., 67.,  4.,  5.,  3.],\n",
       "       [ 4., 49.,  1.,  1.,  3.],\n",
       "       [ 5., 60.,  4.,  5.,  3.],\n",
       "       [ 4., 44.,  1.,  4.,  3.],\n",
       "       [ 4., 65.,  2.,  1.,  3.],\n",
       "       [ 5., 59.,  4.,  3.,  3.],\n",
       "       [ 4., 65.,  3.,  3.,  3.],\n",
       "       [ 5., 71.,  4.,  4.,  3.],\n",
       "       [ 5., 53.,  3.,  4.,  4.],\n",
       "       [ 3., 39.,  1.,  1.,  3.],\n",
       "       [ 5., 60.,  4.,  3.,  3.],\n",
       "       [ 4., 53.,  3.,  4.,  3.],\n",
       "       [ 4., 54.,  1.,  1.,  3.],\n",
       "       [ 4., 44.,  4.,  1.,  1.],\n",
       "       [ 4., 72.,  2.,  1.,  3.],\n",
       "       [ 4., 68.,  4.,  5.,  3.],\n",
       "       [ 4., 46.,  1.,  1.,  3.],\n",
       "       [ 5., 68.,  4.,  3.,  3.],\n",
       "       [ 4., 43.,  4.,  3.,  3.],\n",
       "       [ 5., 80.,  4.,  3.,  3.],\n",
       "       [ 4., 45.,  2.,  1.,  3.],\n",
       "       [ 5., 67.,  4.,  3.,  3.],\n",
       "       [ 5., 77.,  4.,  3.,  4.],\n",
       "       [ 4., 54.,  4.,  4.,  3.],\n",
       "       [ 5., 55.,  3.,  4.,  3.],\n",
       "       [ 4., 56.,  1.,  1.,  3.],\n",
       "       [ 4., 38.,  4.,  1.,  3.],\n",
       "       [ 4., 67.,  1.,  4.,  3.],\n",
       "       [ 4., 60.,  2.,  1.,  3.],\n",
       "       [ 5., 71.,  4.,  3.,  3.],\n",
       "       [ 3., 27.,  2.,  1.,  3.],\n",
       "       [ 4., 57.,  2.,  1.,  2.],\n",
       "       [ 4., 57.,  4.,  4.,  3.],\n",
       "       [ 4., 25.,  2.,  1.,  3.],\n",
       "       [ 5., 58.,  3.,  4.,  3.],\n",
       "       [ 5., 71.,  3.,  1.,  3.],\n",
       "       [ 5., 69.,  2.,  4.,  3.],\n",
       "       [ 4., 76.,  3.,  2.,  3.],\n",
       "       [ 5., 55.,  4.,  5.,  3.],\n",
       "       [ 5., 54.,  4.,  5.,  3.],\n",
       "       [ 5., 73.,  4.,  4.,  3.],\n",
       "       [ 5., 55.,  4.,  4.,  3.],\n",
       "       [ 5., 53.,  4.,  3.,  3.],\n",
       "       [ 5., 63.,  4.,  3.,  3.],\n",
       "       [ 4., 57.,  1.,  1.,  3.],\n",
       "       [ 4., 56.,  2.,  1.,  3.],\n",
       "       [ 4., 56.,  4.,  5.,  3.],\n",
       "       [ 4., 45.,  1.,  1.,  3.],\n",
       "       [ 4., 63.,  1.,  4.,  3.],\n",
       "       [ 4., 59.,  3.,  4.,  3.],\n",
       "       [ 5., 31.,  4.,  4.,  2.],\n",
       "       [ 4., 39.,  4.,  3.,  3.],\n",
       "       [ 5., 69.,  3.,  4.,  3.],\n",
       "       [ 4., 59.,  1.,  1.,  3.],\n",
       "       [ 4., 26.,  1.,  1.,  3.],\n",
       "       [ 4., 44.,  2.,  1.,  3.],\n",
       "       [ 4., 47.,  4.,  4.,  3.],\n",
       "       [ 5., 67.,  2.,  4.,  1.],\n",
       "       [ 5., 87.,  4.,  5.,  3.],\n",
       "       [ 4., 37.,  2.,  1.,  2.],\n",
       "       [ 5., 66.,  4.,  4.,  3.],\n",
       "       [ 4., 59.,  4.,  5.,  3.],\n",
       "       [ 4., 47.,  2.,  1.,  2.],\n",
       "       [ 4., 47.,  2.,  1.,  3.],\n",
       "       [ 4., 49.,  2.,  1.,  1.],\n",
       "       [ 4., 74.,  2.,  1.,  2.],\n",
       "       [ 4., 58.,  4.,  3.,  3.],\n",
       "       [ 5., 68.,  4.,  4.,  3.],\n",
       "       [ 4., 59.,  2.,  4.,  3.],\n",
       "       [ 4., 43.,  3.,  1.,  2.],\n",
       "       [ 4., 50.,  4.,  5.,  3.],\n",
       "       [ 5., 65.,  4.,  5.,  3.],\n",
       "       [ 5., 66.,  4.,  4.,  3.],\n",
       "       [ 5., 33.,  4.,  4.,  3.],\n",
       "       [ 5., 86.,  4.,  4.,  3.],\n",
       "       [ 5., 81.,  3.,  4.,  3.],\n",
       "       [ 4., 43.,  1.,  1.,  3.],\n",
       "       [ 5., 58.,  4.,  4.,  3.],\n",
       "       [ 4., 18.,  1.,  1.,  3.],\n",
       "       [ 4., 52.,  2.,  1.,  3.],\n",
       "       [ 4., 49.,  4.,  4.,  3.],\n",
       "       [ 3., 21.,  1.,  1.,  3.],\n",
       "       [ 5., 80.,  4.,  4.,  3.],\n",
       "       [ 4., 45.,  1.,  2.,  3.],\n",
       "       [ 4., 28.,  2.,  1.,  3.],\n",
       "       [ 5., 72.,  4.,  2.,  3.],\n",
       "       [ 4., 57.,  4.,  4.,  4.],\n",
       "       [ 4., 69.,  2.,  1.,  3.],\n",
       "       [ 4., 52.,  1.,  1.,  3.],\n",
       "       [ 4., 43.,  2.,  1.,  3.],\n",
       "       [ 3., 42.,  2.,  1.,  3.],\n",
       "       [ 5., 62.,  1.,  5.,  3.],\n",
       "       [ 4., 66.,  4.,  5.,  3.],\n",
       "       [ 5., 75.,  4.,  3.,  3.],\n",
       "       [ 4., 62.,  2.,  4.,  3.],\n",
       "       [ 4., 51.,  1.,  1.,  3.],\n",
       "       [ 5., 67.,  4.,  4.,  3.],\n",
       "       [ 5., 63.,  4.,  4.,  3.],\n",
       "       [ 5., 75.,  4.,  3.,  3.],\n",
       "       [ 4., 64.,  2.,  4.,  3.],\n",
       "       [ 4., 54.,  1.,  1.,  3.],\n",
       "       [ 4., 57.,  4.,  4.,  3.],\n",
       "       [ 5., 33.,  2.,  4.,  3.],\n",
       "       [ 4., 58.,  2.,  1.,  3.],\n",
       "       [ 4., 23.,  2.,  1.,  3.],\n",
       "       [ 6., 41.,  3.,  3.,  2.],\n",
       "       [ 5., 80.,  4.,  5.,  3.],\n",
       "       [ 4., 59.,  2.,  1.,  3.],\n",
       "       [ 4., 67.,  4.,  1.,  3.],\n",
       "       [ 5., 63.,  4.,  5.,  3.],\n",
       "       [ 4., 66.,  1.,  1.,  3.],\n",
       "       [ 4., 70.,  2.,  1.,  3.],\n",
       "       [ 4., 49.,  1.,  1.,  3.],\n",
       "       [ 5., 70.,  1.,  4.,  3.],\n",
       "       [ 5., 43.,  4.,  3.,  3.],\n",
       "       [ 5., 74.,  4.,  5.,  3.],\n",
       "       [ 4., 65.,  1.,  1.,  3.],\n",
       "       [ 5., 62.,  4.,  3.,  3.],\n",
       "       [ 5., 64.,  4.,  5.,  3.],\n",
       "       [ 5., 93.,  1.,  5.,  3.],\n",
       "       [ 5., 79.,  1.,  4.,  3.],\n",
       "       [ 5., 56.,  4.,  4.,  3.],\n",
       "       [ 4., 38.,  2.,  3.,  3.],\n",
       "       [ 5., 65.,  4.,  4.,  3.],\n",
       "       [ 5., 67.,  2.,  4.,  3.],\n",
       "       [ 5., 69.,  3.,  4.,  3.],\n",
       "       [ 5., 52.,  4.,  5.,  3.],\n",
       "       [ 4., 59.,  2.,  1.,  3.],\n",
       "       [ 4., 50.,  2.,  1.,  3.],\n",
       "       [ 4., 48.,  1.,  1.,  3.],\n",
       "       [ 3., 46.,  1.,  1.,  3.],\n",
       "       [ 5., 73.,  4.,  5.,  3.],\n",
       "       [ 4., 35.,  2.,  1.,  3.],\n",
       "       [ 4., 44.,  1.,  1.,  3.],\n",
       "       [ 4., 57.,  2.,  4.,  3.],\n",
       "       [ 4., 64.,  2.,  3.,  3.],\n",
       "       [ 4., 60.,  2.,  1.,  2.],\n",
       "       [ 3., 51.,  2.,  4.,  3.],\n",
       "       [ 2., 23.,  1.,  1.,  3.],\n",
       "       [ 5., 87.,  4.,  5.,  3.],\n",
       "       [ 4., 71.,  4.,  5.,  3.],\n",
       "       [ 4., 72.,  1.,  3.,  3.],\n",
       "       [ 5., 62.,  4.,  4.,  3.],\n",
       "       [ 5., 71.,  4.,  5.,  3.],\n",
       "       [ 4., 28.,  1.,  1.,  3.],\n",
       "       [ 5., 65.,  4.,  5.,  3.],\n",
       "       [ 3., 21.,  3.,  1.,  3.],\n",
       "       [ 4., 56.,  2.,  4.,  3.],\n",
       "       [ 5., 75.,  4.,  4.,  3.],\n",
       "       [ 4., 35.,  2.,  1.,  3.],\n",
       "       [ 4., 67.,  2.,  4.,  3.],\n",
       "       [ 4., 42.,  1.,  1.,  3.]])"
      ]
     },
     "execution_count": 39,
     "metadata": {},
     "output_type": "execute_result"
    }
   ],
   "source": [
    "features_test"
   ]
  },
  {
   "cell_type": "code",
   "execution_count": 40,
   "metadata": {},
   "outputs": [
    {
     "data": {
      "text/plain": [
       "array([1, 0, 1, 1, 1, 0, 0, 1, 0, 0, 1, 1, 1, 0, 1, 1, 0, 0, 0, 0, 1, 1,\n",
       "       0, 0, 1, 1, 1, 1, 1, 1, 0, 1, 1, 0, 1, 1, 0, 1, 0, 1, 1, 0, 0, 1,\n",
       "       1, 0, 1, 1, 1, 1, 0, 0, 1, 0, 0, 1, 1, 1, 1, 0, 0, 0, 1, 1, 0, 1,\n",
       "       1, 0, 1, 0, 1, 1, 0, 0, 0, 0, 0, 0, 0, 0, 0, 1, 1, 0, 0, 0, 1, 1,\n",
       "       0, 0, 0, 1, 0, 0, 0, 0, 1, 1, 0, 1, 0, 1, 1, 1, 0, 1, 1, 1, 1, 1,\n",
       "       1, 1, 1, 0, 1, 0, 1, 0, 1, 1, 0, 0, 0, 1, 1, 1, 0, 0, 1, 0, 1, 0,\n",
       "       0, 0, 1, 1, 0, 1, 0, 1, 1, 1, 0, 1, 0, 1, 1, 0, 1, 1, 1, 1, 0, 0,\n",
       "       0, 1, 0, 0, 1, 0, 1, 0, 1, 0, 0, 1, 1, 1, 0, 1, 1, 0, 1, 0, 1, 1,\n",
       "       1, 1, 1, 1, 0, 1, 0, 0, 1, 0, 1, 0, 0, 0, 0, 0, 0, 0, 0, 1, 0, 0,\n",
       "       1, 0, 0, 1, 1, 1, 1, 1, 0, 0, 1, 0, 0, 0, 0, 0, 1, 0, 0, 0, 1, 0,\n",
       "       0, 1, 1, 1, 1, 1, 1, 0, 0, 0, 0, 0, 1, 0, 0, 0, 1, 1, 1, 1, 0, 1,\n",
       "       0, 0, 0, 1, 0, 0, 0, 0, 1, 0, 0, 1, 0, 0, 0, 0, 1, 0, 1, 0, 0, 0,\n",
       "       0, 0, 1, 0, 1, 0, 1, 1, 0, 1, 0, 0, 0, 0, 0, 1, 0, 0, 0, 0, 1, 0,\n",
       "       1, 0, 1, 1, 1, 0, 0, 0, 0, 1, 0, 0, 1, 1, 1, 1, 0, 0, 0, 1, 0, 0,\n",
       "       0, 0, 0, 0, 0, 0, 1, 1, 0, 0, 1, 1, 0, 1, 1, 1, 1, 1, 1, 0, 1, 0,\n",
       "       0, 1, 1, 0, 0, 0, 0, 1, 1, 1, 1, 0, 0, 0, 1, 1, 0, 0, 1, 0, 0, 1,\n",
       "       0, 0, 1, 1, 0, 0, 0, 0, 0, 0, 1, 1, 1, 0, 0, 1, 0, 1, 1, 0, 0, 0,\n",
       "       0, 1, 1, 1, 0, 0, 1, 1, 1, 1, 1, 1, 0, 1, 0, 1, 0, 0, 0, 1, 0, 0,\n",
       "       0, 0, 0, 0, 0, 1, 1, 1, 1, 1, 1, 0, 0, 0, 1, 0, 0, 0, 0, 1, 1, 0,\n",
       "       0, 0, 1, 1, 1, 1, 1, 0, 0, 1, 1, 0, 0, 0, 1, 1, 1, 0, 1, 0, 1, 0,\n",
       "       1, 0, 0, 0, 0, 1, 0, 0, 1, 1, 1, 1, 0, 1, 1, 0, 1, 1, 1, 1, 1, 1,\n",
       "       1, 0, 1, 0, 0, 1, 1, 1, 1, 1, 1, 0, 1, 1, 1, 0, 0, 1, 1, 1, 1, 0,\n",
       "       1, 1, 1, 1, 0, 0, 0, 1, 0, 0, 1, 0, 1, 0, 0, 1, 0, 0, 0, 1, 1, 1,\n",
       "       0, 0, 1, 1, 1, 1, 1, 0, 0, 1, 1, 0, 1, 0, 1, 0, 1, 0, 1, 1, 1, 1,\n",
       "       0, 1, 0, 1, 0, 0, 1, 0, 0, 1, 0, 0, 1, 1, 1, 0, 1, 1, 1, 1, 0, 0,\n",
       "       1, 1, 0, 0, 0, 0, 0, 0, 0, 0, 0, 0, 1, 0, 0, 1, 0, 0, 1, 1, 0, 1,\n",
       "       0, 0, 1, 1, 0, 0, 0, 0, 0, 0, 1, 1, 1, 0, 0, 0, 1, 1, 0, 1, 0, 0,\n",
       "       1, 1, 1, 1, 0, 1, 0, 1, 0, 1, 0, 1, 1, 0, 1, 1, 1, 1, 0, 1, 1, 0,\n",
       "       0, 0, 1, 1, 0, 0, 1, 0, 1, 1, 0, 1, 1, 0, 0, 0, 0, 1, 0, 0, 1, 0,\n",
       "       0, 0, 0, 1, 1, 1, 0, 1, 0, 0, 0, 1, 1, 0, 0, 1, 0, 1, 0, 1, 1, 0,\n",
       "       0, 1, 1, 1])"
      ]
     },
     "execution_count": 40,
     "metadata": {},
     "output_type": "execute_result"
    }
   ],
   "source": [
    "diagnosis_train"
   ]
  },
  {
   "cell_type": "code",
   "execution_count": 41,
   "metadata": {},
   "outputs": [
    {
     "data": {
      "text/plain": [
       "array([0, 0, 0, 0, 0, 1, 0, 0, 0, 1, 1, 1, 0, 0, 1, 0, 1, 0, 0, 1, 1, 1,\n",
       "       0, 0, 1, 0, 0, 0, 0, 1, 0, 1, 1, 1, 0, 1, 0, 1, 1, 0, 0, 0, 0, 1,\n",
       "       0, 0, 0, 0, 1, 0, 1, 0, 1, 1, 1, 1, 1, 1, 0, 0, 1, 0, 0, 0, 1, 0,\n",
       "       1, 0, 0, 0, 0, 0, 1, 0, 1, 0, 0, 0, 0, 0, 0, 1, 0, 0, 1, 1, 1, 0,\n",
       "       0, 1, 0, 1, 0, 0, 1, 0, 1, 0, 0, 1, 1, 0, 0, 0, 1, 1, 1, 1, 1, 0,\n",
       "       1, 1, 1, 1, 0, 1, 1, 0, 0, 1, 1, 1, 1, 1, 0, 0, 0, 1, 1, 1, 1, 1,\n",
       "       1, 1, 1, 0, 0, 1, 1, 0, 1, 0, 0, 0, 0, 1, 1, 0, 0, 0, 0, 0, 0, 1,\n",
       "       1, 0, 1, 1, 0, 1, 0, 0, 1, 0, 1, 0])"
      ]
     },
     "execution_count": 41,
     "metadata": {},
     "output_type": "execute_result"
    }
   ],
   "source": [
    "diagnosis_test"
   ]
  },
  {
   "cell_type": "markdown",
   "metadata": {},
   "source": [
    "#### Logistic regression\n",
    "\n",
    "Let's choose logistic regression for training and classifying biopsy outcomes.\n",
    "\n",
    "__Tasks:__\n",
    "\n",
    "- Initialize a LogisticRegression model. Select Limited-memory BFGS algorithm as a solver for regression minimizaition. Set maximum number of iterations taken for the solver to converge to 5000.\n",
    "\n",
    "- Fit a LogisticRegression model on training data set.\n",
    "\n",
    "- Predict diagnosis labels for feature test data set.\n",
    "\n",
    "- Investigate other LogisticRegression model parameters. Is there anything you can do to improve the prediction accuracy? "
   ]
  },
  {
   "cell_type": "code",
   "execution_count": 42,
   "metadata": {},
   "outputs": [],
   "source": [
    "# Initialise Logistic Regression\n",
    "logreg = LogisticRegression(solver='lbfgs', max_iter=5000)\n",
    "\n",
    "# Fit logistic regression model based on training data\n",
    "logreg.fit(features_train, diagnosis_train)\n",
    "\n",
    "# Predict labels based on test dataset\n",
    "diagnosis_pred = logreg.predict(features_test)"
   ]
  },
  {
   "cell_type": "markdown",
   "metadata": {},
   "source": [
    "__Tasks:__\n",
    "\n",
    "- Investigate the performance of your model by calculating accuracy of your regression model."
   ]
  },
  {
   "cell_type": "code",
   "execution_count": null,
   "metadata": {},
   "outputs": [],
   "source": [
    "# Get the results\n",
    "# The mean accuracy on the given test data and labels\n",
    "print('Accuracy of logistic regression classifier on test set: {:.2f}'.format(logreg.score(features_test, diagnosis_test)))"
   ]
  },
  {
   "cell_type": "markdown",
   "metadata": {},
   "source": [
    "__Tasks:__\n",
    "\n",
    "- Print out a confusion matrix to explain the performance of a learning algorithm. Confusion matrix is simply a square matrix that reports the counts of the true positives, true negatives, false positives and false negatives.\n",
    "- Make sure to understand which parts of confusion matrix are what!"
   ]
  },
  {
   "cell_type": "code",
   "execution_count": 44,
   "metadata": {},
   "outputs": [],
   "source": [
    "# Calculate confusion matrix\n",
    "confusion_m = confusion_matrix(diagnosis_test, diagnosis_pred)"
   ]
  },
  {
   "cell_type": "code",
   "execution_count": 45,
   "metadata": {},
   "outputs": [
    {
     "data": {
      "text/plain": [
       "<matplotlib.axes._subplots.AxesSubplot at 0x7f39020c5748>"
      ]
     },
     "execution_count": 45,
     "metadata": {},
     "output_type": "execute_result"
    },
    {
     "data": {
      "image/png": "[encoded data removed]",
      "text/plain": [
       "<Figure size 432x288 with 2 Axes>"
      ]
     },
     "metadata": {
      "needs_background": "light"
     },
     "output_type": "display_data"
    }
   ],
   "source": [
    "# Plot confusion matrix heatmap\n",
    "sns.heatmap(confusion_m, annot=True)"
   ]
  },
  {
   "cell_type": "markdown",
   "metadata": {},
   "source": [
    "__Tasks:__\n",
    "\n",
    "- Use classification report to provide global overview of prediction in terms of precision, recall and f1-score. See _scikit-learn_ for more information. \n",
    "- One will be able to observe, how well prediction is performed for specific labels. Why a certain label has a higher prediction score than the other?"
   ]
  },
  {
   "cell_type": "code",
   "execution_count": 46,
   "metadata": {},
   "outputs": [
    {
     "name": "stdout",
     "output_type": "stream",
     "text": [
      "              precision    recall  f1-score   support\n",
      "\n",
      "           0       0.88      0.82      0.85        89\n",
      "           1       0.81      0.87      0.84        77\n",
      "\n",
      "    accuracy                           0.84       166\n",
      "   macro avg       0.84      0.85      0.84       166\n",
      "weighted avg       0.85      0.84      0.84       166\n",
      "\n"
     ]
    }
   ],
   "source": [
    "print(classification_report(diagnosis_test, diagnosis_pred))"
   ]
  },
  {
   "cell_type": "markdown",
   "metadata": {},
   "source": [
    "__Tasks:__ \n",
    "\n",
    "- Plot a receiver operating characteristic (ROC) plot. Such graph is useful for selecting models based for classification based on their performance with respect to the false positive and true positive rates.  \n",
    "- Once, you have multiple classification models, plot multiple ROC curves to compare classification accuracies. "
   ]
  },
  {
   "cell_type": "code",
   "execution_count": 47,
   "metadata": {},
   "outputs": [],
   "source": [
    "# Calculate ROC curve\n",
    "logit_roc_auc = roc_auc_score(diagnosis_test, logreg.predict(features_test))\n",
    "fpr, tpr, thresholds = roc_curve(diagnosis_test, logreg.predict_proba(features_test)[:,1])"
   ]
  },
  {
   "cell_type": "code",
   "execution_count": 48,
   "metadata": {},
   "outputs": [
    {
     "data": {
      "text/plain": [
       "<matplotlib.legend.Legend at 0x7f3900f599e8>"
      ]
     },
     "execution_count": 48,
     "metadata": {},
     "output_type": "execute_result"
    },
    {
     "data": {
      "image/png": "[encoded data removed]",
      "text/plain": [
       "<Figure size 432x288 with 1 Axes>"
      ]
     },
     "metadata": {
      "needs_background": "light"
     },
     "output_type": "display_data"
    }
   ],
   "source": [
    "# Plot ROC curve\n",
    "plt.plot(fpr, tpr, label='Logistic Regression (area = %0.2f)' % logit_roc_auc)\n",
    "plt.plot([0, 1], [0, 1],'r--')\n",
    "plt.xlim([0.0, 1.0])\n",
    "plt.ylim([0.0, 1.05])\n",
    "plt.xlabel('False Positive Rate')\n",
    "plt.ylabel('True Positive Rate')\n",
    "plt.title('Receiver operating characteristic')\n",
    "plt.legend(loc=\"lower right\")"
   ]
  },
  {
   "cell_type": "markdown",
   "metadata": {},
   "source": [
    "#### Random Forests\n",
    "\n",
    "_Tour de force_ of Logistic Regression allowed us to use multiple tools for setting up and analysing a basic machine learning algorithm. Now, we will introduce another classifier - Random Forests - to perform the prediction of breast cancer biopsies.\n",
    "\n",
    "Intuitively, Random Forests can be considered as an ensemble of Decision Trees. A Decision Tree is a model where one breaks down our data of interest by making decision based on asking a series of questions. By running multiple Decision Trees one asign class labels by a majority vote."
   ]
  },
  {
   "cell_type": "markdown",
   "metadata": {},
   "source": [
    "__Tasks:__\n",
    "\n",
    "- Split your data set in training and test sets.\n",
    "- Initialize a Random Forest classifier.\n",
    "- Train and predict biopsy outcomes using a new classifier."
   ]
  },
  {
   "cell_type": "code",
   "execution_count": 49,
   "metadata": {},
   "outputs": [
    {
     "name": "stderr",
     "output_type": "stream",
     "text": [
      "/home/mariusk/anaconda3/lib/python3.7/site-packages/sklearn/ensemble/forest.py:245: FutureWarning: The default value of n_estimators will change from 10 in version 0.20 to 100 in 0.22.\n",
      "  \"10 in version 0.20 to 100 in 0.22.\", FutureWarning)\n",
      "/home/mariusk/anaconda3/lib/python3.7/site-packages/sklearn/ensemble/forest.py:460: UserWarning: Some inputs do not have OOB scores. This probably means too few trees were used to compute any reliable oob estimates.\n",
      "  warn(\"Some inputs do not have OOB scores. \"\n",
      "/home/mariusk/anaconda3/lib/python3.7/site-packages/sklearn/ensemble/forest.py:465: RuntimeWarning: invalid value encountered in true_divide\n",
      "  predictions[k].sum(axis=1)[:, np.newaxis])\n"
     ]
    }
   ],
   "source": [
    "# Split data for Random Forest\n",
    "rf_proportion = 0.2\n",
    "features_train, features_test, diagnosis_train, diagnosis_test = train_test_split(features, diagnosis, test_size=rf_proportion, random_state=42) \n",
    "\n",
    "# Initialize a Random Forest\n",
    "rf = RandomForestClassifier(random_state=42, oob_score = True, class_weight = \"balanced\")\n",
    "\n",
    "# Train and predict with your Random Forest model\n",
    "rf.fit(features_train, diagnosis_train)\n",
    "diagnosis_pred = rf.predict(features_test)"
   ]
  },
  {
   "cell_type": "markdown",
   "metadata": {},
   "source": [
    "__Tasks:__\n",
    "\n",
    "- Calculate the following  scores:     \n",
    "    * model accuracy\n",
    "    * precision\n",
    "    * recall\n",
    "    * F1\n",
    "    * ROC\n",
    "    * area under the curve\n",
    "    * Matthew's correlation coefficient\n",
    "    * Matthew's correlation\n",
    "    * Confusion matrix\n",
    "    * Out-of-bag error."
   ]
  },
  {
   "cell_type": "code",
   "execution_count": 50,
   "metadata": {},
   "outputs": [
    {
     "name": "stdout",
     "output_type": "stream",
     "text": [
      "Accuracy:  0.7771084337349398\n",
      "Precision:  0.7325581395348837\n",
      "Recall:  0.8181818181818182\n",
      "F1_score:  0.7730061349693251\n",
      "ROC_AUC:  0.7798774259448418\n",
      "MCC:  0.5586554159902473\n",
      "Confusion matrix:  [[66 23]\n",
      " [14 63]]\n",
      "OOB score:  0.7846385542168675\n"
     ]
    }
   ],
   "source": [
    "# Get metrics on model performance\n",
    "print(\"Accuracy: \", accuracy_score(diagnosis_test, diagnosis_pred)) \n",
    "print(\"Precision: \", precision_score(diagnosis_test, diagnosis_pred))\n",
    "print(\"Recall: \", recall_score(diagnosis_test, diagnosis_pred))\n",
    "print(\"F1_score: \", f1_score(diagnosis_test, diagnosis_pred))\n",
    "print(\"ROC_AUC: \", roc_auc_score(diagnosis_test, diagnosis_pred))\n",
    "print(\"MCC: \", matthews_corrcoef(diagnosis_test, diagnosis_pred))\n",
    "print(\"Confusion matrix: \", confusion_matrix(diagnosis_test, diagnosis_pred))\n",
    "print(\"OOB score: \", rf.oob_score_)"
   ]
  },
  {
   "cell_type": "markdown",
   "metadata": {},
   "source": [
    "__Tasks:__\n",
    "\n",
    "- Random forest classifier can be useful, because it provides importance of training features for classification prediction. Calculate the importance of each feature. \n",
    "- Does this make sense with what we already know?"
   ]
  },
  {
   "cell_type": "code",
   "execution_count": 51,
   "metadata": {},
   "outputs": [
    {
     "name": "stdout",
     "output_type": "stream",
     "text": [
      "Feature ranking:\n",
      "1. feature 0 (0.395024)\n",
      "2. feature 1 (0.305988)\n",
      "3. feature 3 (0.142094)\n",
      "4. feature 2 (0.129207)\n",
      "5. feature 4 (0.027687)\n"
     ]
    }
   ],
   "source": [
    "# Get feature importances of random forest classifier\n",
    "importances = rf.feature_importances_\n",
    "std = np.std([tree.feature_importances_ for tree in rf.estimators_], axis=0)\n",
    "indices = np.argsort(importances)[::-1]\n",
    "\n",
    "# Print the feature ranking\n",
    "print(\"Feature ranking:\")\n",
    "\n",
    "for f in range(features.shape[1]):\n",
    "    print(\"%d. feature %d (%f)\" % (f + 1, indices[f], importances[indices[f]]))"
   ]
  },
  {
   "cell_type": "markdown",
   "metadata": {},
   "source": [
    "__Tasks:__\n",
    "\n",
    "- Plot importance of features as a bar plot with error bars."
   ]
  },
  {
   "cell_type": "code",
   "execution_count": 52,
   "metadata": {},
   "outputs": [
    {
     "data": {
      "image/png": "[encoded data removed]",
      "text/plain": [
       "<Figure size 432x288 with 1 Axes>"
      ]
     },
     "metadata": {
      "needs_background": "light"
     },
     "output_type": "display_data"
    }
   ],
   "source": [
    "# Plot the feature importances of the forest\n",
    "plt.figure()\n",
    "plt.title(\"Feature importances\")\n",
    "plt.bar(range(features.shape[1]), importances[indices],\n",
    "       color=\"r\", yerr=std[indices], align=\"center\")\n",
    "plt.xticks(range(features.shape[1]), indices)\n",
    "plt.xlim([-1, features.shape[1]])\n",
    "plt.show()"
   ]
  },
  {
   "cell_type": "markdown",
   "metadata": {},
   "source": [
    "__Tasks:__\n",
    "\n",
    "- Perform hyperparameter tuning for RandomForest Classifier using GridSearch. Find the best set of hyperparameters to perform model training. \n",
    "- What are other ways to search for hyperparameters? Which ones could be better and why?"
   ]
  },
  {
   "cell_type": "code",
   "execution_count": 53,
   "metadata": {},
   "outputs": [
    {
     "name": "stderr",
     "output_type": "stream",
     "text": [
      "/home/mariusk/anaconda3/lib/python3.7/site-packages/sklearn/model_selection/_split.py:1978: FutureWarning: The default value of cv will change from 3 to 5 in version 0.22. Specify it explicitly to silence this warning.\n",
      "  warnings.warn(CV_WARNING, FutureWarning)\n",
      "/home/mariusk/anaconda3/lib/python3.7/site-packages/sklearn/ensemble/forest.py:460: UserWarning: Some inputs do not have OOB scores. This probably means too few trees were used to compute any reliable oob estimates.\n",
      "  warn(\"Some inputs do not have OOB scores. \"\n",
      "/home/mariusk/anaconda3/lib/python3.7/site-packages/sklearn/ensemble/forest.py:465: RuntimeWarning: invalid value encountered in true_divide\n",
      "  predictions[k].sum(axis=1)[:, np.newaxis])\n",
      "/home/mariusk/anaconda3/lib/python3.7/site-packages/sklearn/ensemble/forest.py:460: UserWarning: Some inputs do not have OOB scores. This probably means too few trees were used to compute any reliable oob estimates.\n",
      "  warn(\"Some inputs do not have OOB scores. \"\n",
      "/home/mariusk/anaconda3/lib/python3.7/site-packages/sklearn/ensemble/forest.py:465: RuntimeWarning: invalid value encountered in true_divide\n",
      "  predictions[k].sum(axis=1)[:, np.newaxis])\n",
      "/home/mariusk/anaconda3/lib/python3.7/site-packages/sklearn/ensemble/forest.py:460: UserWarning: Some inputs do not have OOB scores. This probably means too few trees were used to compute any reliable oob estimates.\n",
      "  warn(\"Some inputs do not have OOB scores. \"\n",
      "/home/mariusk/anaconda3/lib/python3.7/site-packages/sklearn/ensemble/forest.py:465: RuntimeWarning: invalid value encountered in true_divide\n",
      "  predictions[k].sum(axis=1)[:, np.newaxis])\n",
      "/home/mariusk/anaconda3/lib/python3.7/site-packages/sklearn/ensemble/forest.py:460: UserWarning: Some inputs do not have OOB scores. This probably means too few trees were used to compute any reliable oob estimates.\n",
      "  warn(\"Some inputs do not have OOB scores. \"\n",
      "/home/mariusk/anaconda3/lib/python3.7/site-packages/sklearn/ensemble/forest.py:465: RuntimeWarning: invalid value encountered in true_divide\n",
      "  predictions[k].sum(axis=1)[:, np.newaxis])\n",
      "/home/mariusk/anaconda3/lib/python3.7/site-packages/sklearn/ensemble/forest.py:460: UserWarning: Some inputs do not have OOB scores. This probably means too few trees were used to compute any reliable oob estimates.\n",
      "  warn(\"Some inputs do not have OOB scores. \"\n",
      "/home/mariusk/anaconda3/lib/python3.7/site-packages/sklearn/ensemble/forest.py:465: RuntimeWarning: invalid value encountered in true_divide\n",
      "  predictions[k].sum(axis=1)[:, np.newaxis])\n",
      "/home/mariusk/anaconda3/lib/python3.7/site-packages/sklearn/ensemble/forest.py:460: UserWarning: Some inputs do not have OOB scores. This probably means too few trees were used to compute any reliable oob estimates.\n",
      "  warn(\"Some inputs do not have OOB scores. \"\n",
      "/home/mariusk/anaconda3/lib/python3.7/site-packages/sklearn/ensemble/forest.py:465: RuntimeWarning: invalid value encountered in true_divide\n",
      "  predictions[k].sum(axis=1)[:, np.newaxis])\n",
      "/home/mariusk/anaconda3/lib/python3.7/site-packages/sklearn/ensemble/forest.py:460: UserWarning: Some inputs do not have OOB scores. This probably means too few trees were used to compute any reliable oob estimates.\n",
      "  warn(\"Some inputs do not have OOB scores. \"\n",
      "/home/mariusk/anaconda3/lib/python3.7/site-packages/sklearn/ensemble/forest.py:465: RuntimeWarning: invalid value encountered in true_divide\n",
      "  predictions[k].sum(axis=1)[:, np.newaxis])\n",
      "/home/mariusk/anaconda3/lib/python3.7/site-packages/sklearn/ensemble/forest.py:460: UserWarning: Some inputs do not have OOB scores. This probably means too few trees were used to compute any reliable oob estimates.\n",
      "  warn(\"Some inputs do not have OOB scores. \"\n",
      "/home/mariusk/anaconda3/lib/python3.7/site-packages/sklearn/ensemble/forest.py:465: RuntimeWarning: invalid value encountered in true_divide\n",
      "  predictions[k].sum(axis=1)[:, np.newaxis])\n",
      "/home/mariusk/anaconda3/lib/python3.7/site-packages/sklearn/ensemble/forest.py:460: UserWarning: Some inputs do not have OOB scores. This probably means too few trees were used to compute any reliable oob estimates.\n",
      "  warn(\"Some inputs do not have OOB scores. \"\n",
      "/home/mariusk/anaconda3/lib/python3.7/site-packages/sklearn/ensemble/forest.py:465: RuntimeWarning: invalid value encountered in true_divide\n",
      "  predictions[k].sum(axis=1)[:, np.newaxis])\n",
      "/home/mariusk/anaconda3/lib/python3.7/site-packages/sklearn/ensemble/forest.py:460: UserWarning: Some inputs do not have OOB scores. This probably means too few trees were used to compute any reliable oob estimates.\n",
      "  warn(\"Some inputs do not have OOB scores. \"\n",
      "/home/mariusk/anaconda3/lib/python3.7/site-packages/sklearn/ensemble/forest.py:465: RuntimeWarning: invalid value encountered in true_divide\n",
      "  predictions[k].sum(axis=1)[:, np.newaxis])\n",
      "/home/mariusk/anaconda3/lib/python3.7/site-packages/sklearn/ensemble/forest.py:460: UserWarning: Some inputs do not have OOB scores. This probably means too few trees were used to compute any reliable oob estimates.\n",
      "  warn(\"Some inputs do not have OOB scores. \"\n",
      "/home/mariusk/anaconda3/lib/python3.7/site-packages/sklearn/ensemble/forest.py:465: RuntimeWarning: invalid value encountered in true_divide\n",
      "  predictions[k].sum(axis=1)[:, np.newaxis])\n",
      "/home/mariusk/anaconda3/lib/python3.7/site-packages/sklearn/ensemble/forest.py:460: UserWarning: Some inputs do not have OOB scores. This probably means too few trees were used to compute any reliable oob estimates.\n",
      "  warn(\"Some inputs do not have OOB scores. \"\n",
      "/home/mariusk/anaconda3/lib/python3.7/site-packages/sklearn/ensemble/forest.py:465: RuntimeWarning: invalid value encountered in true_divide\n",
      "  predictions[k].sum(axis=1)[:, np.newaxis])\n",
      "/home/mariusk/anaconda3/lib/python3.7/site-packages/sklearn/ensemble/forest.py:460: UserWarning: Some inputs do not have OOB scores. This probably means too few trees were used to compute any reliable oob estimates.\n",
      "  warn(\"Some inputs do not have OOB scores. \"\n",
      "/home/mariusk/anaconda3/lib/python3.7/site-packages/sklearn/ensemble/forest.py:465: RuntimeWarning: invalid value encountered in true_divide\n",
      "  predictions[k].sum(axis=1)[:, np.newaxis])\n",
      "/home/mariusk/anaconda3/lib/python3.7/site-packages/sklearn/ensemble/forest.py:460: UserWarning: Some inputs do not have OOB scores. This probably means too few trees were used to compute any reliable oob estimates.\n",
      "  warn(\"Some inputs do not have OOB scores. \"\n",
      "/home/mariusk/anaconda3/lib/python3.7/site-packages/sklearn/ensemble/forest.py:465: RuntimeWarning: invalid value encountered in true_divide\n",
      "  predictions[k].sum(axis=1)[:, np.newaxis])\n",
      "/home/mariusk/anaconda3/lib/python3.7/site-packages/sklearn/ensemble/forest.py:460: UserWarning: Some inputs do not have OOB scores. This probably means too few trees were used to compute any reliable oob estimates.\n",
      "  warn(\"Some inputs do not have OOB scores. \"\n",
      "/home/mariusk/anaconda3/lib/python3.7/site-packages/sklearn/ensemble/forest.py:465: RuntimeWarning: invalid value encountered in true_divide\n",
      "  predictions[k].sum(axis=1)[:, np.newaxis])\n",
      "/home/mariusk/anaconda3/lib/python3.7/site-packages/sklearn/ensemble/forest.py:460: UserWarning: Some inputs do not have OOB scores. This probably means too few trees were used to compute any reliable oob estimates.\n",
      "  warn(\"Some inputs do not have OOB scores. \"\n",
      "/home/mariusk/anaconda3/lib/python3.7/site-packages/sklearn/ensemble/forest.py:465: RuntimeWarning: invalid value encountered in true_divide\n",
      "  predictions[k].sum(axis=1)[:, np.newaxis])\n",
      "/home/mariusk/anaconda3/lib/python3.7/site-packages/sklearn/ensemble/forest.py:460: UserWarning: Some inputs do not have OOB scores. This probably means too few trees were used to compute any reliable oob estimates.\n",
      "  warn(\"Some inputs do not have OOB scores. \"\n",
      "/home/mariusk/anaconda3/lib/python3.7/site-packages/sklearn/ensemble/forest.py:465: RuntimeWarning: invalid value encountered in true_divide\n",
      "  predictions[k].sum(axis=1)[:, np.newaxis])\n",
      "/home/mariusk/anaconda3/lib/python3.7/site-packages/sklearn/ensemble/forest.py:460: UserWarning: Some inputs do not have OOB scores. This probably means too few trees were used to compute any reliable oob estimates.\n",
      "  warn(\"Some inputs do not have OOB scores. \"\n",
      "/home/mariusk/anaconda3/lib/python3.7/site-packages/sklearn/ensemble/forest.py:465: RuntimeWarning: invalid value encountered in true_divide\n",
      "  predictions[k].sum(axis=1)[:, np.newaxis])\n",
      "/home/mariusk/anaconda3/lib/python3.7/site-packages/sklearn/ensemble/forest.py:460: UserWarning: Some inputs do not have OOB scores. This probably means too few trees were used to compute any reliable oob estimates.\n",
      "  warn(\"Some inputs do not have OOB scores. \"\n",
      "/home/mariusk/anaconda3/lib/python3.7/site-packages/sklearn/ensemble/forest.py:465: RuntimeWarning: invalid value encountered in true_divide\n",
      "  predictions[k].sum(axis=1)[:, np.newaxis])\n",
      "/home/mariusk/anaconda3/lib/python3.7/site-packages/sklearn/ensemble/forest.py:460: UserWarning: Some inputs do not have OOB scores. This probably means too few trees were used to compute any reliable oob estimates.\n",
      "  warn(\"Some inputs do not have OOB scores. \"\n",
      "/home/mariusk/anaconda3/lib/python3.7/site-packages/sklearn/ensemble/forest.py:465: RuntimeWarning: invalid value encountered in true_divide\n",
      "  predictions[k].sum(axis=1)[:, np.newaxis])\n",
      "/home/mariusk/anaconda3/lib/python3.7/site-packages/sklearn/ensemble/forest.py:460: UserWarning: Some inputs do not have OOB scores. This probably means too few trees were used to compute any reliable oob estimates.\n",
      "  warn(\"Some inputs do not have OOB scores. \"\n",
      "/home/mariusk/anaconda3/lib/python3.7/site-packages/sklearn/ensemble/forest.py:465: RuntimeWarning: invalid value encountered in true_divide\n",
      "  predictions[k].sum(axis=1)[:, np.newaxis])\n",
      "/home/mariusk/anaconda3/lib/python3.7/site-packages/sklearn/ensemble/forest.py:460: UserWarning: Some inputs do not have OOB scores. This probably means too few trees were used to compute any reliable oob estimates.\n",
      "  warn(\"Some inputs do not have OOB scores. \"\n",
      "/home/mariusk/anaconda3/lib/python3.7/site-packages/sklearn/ensemble/forest.py:465: RuntimeWarning: invalid value encountered in true_divide\n",
      "  predictions[k].sum(axis=1)[:, np.newaxis])\n",
      "/home/mariusk/anaconda3/lib/python3.7/site-packages/sklearn/ensemble/forest.py:460: UserWarning: Some inputs do not have OOB scores. This probably means too few trees were used to compute any reliable oob estimates.\n",
      "  warn(\"Some inputs do not have OOB scores. \"\n",
      "/home/mariusk/anaconda3/lib/python3.7/site-packages/sklearn/ensemble/forest.py:465: RuntimeWarning: invalid value encountered in true_divide\n",
      "  predictions[k].sum(axis=1)[:, np.newaxis])\n",
      "/home/mariusk/anaconda3/lib/python3.7/site-packages/sklearn/ensemble/forest.py:460: UserWarning: Some inputs do not have OOB scores. This probably means too few trees were used to compute any reliable oob estimates.\n",
      "  warn(\"Some inputs do not have OOB scores. \"\n",
      "/home/mariusk/anaconda3/lib/python3.7/site-packages/sklearn/ensemble/forest.py:465: RuntimeWarning: invalid value encountered in true_divide\n",
      "  predictions[k].sum(axis=1)[:, np.newaxis])\n",
      "/home/mariusk/anaconda3/lib/python3.7/site-packages/sklearn/ensemble/forest.py:460: UserWarning: Some inputs do not have OOB scores. This probably means too few trees were used to compute any reliable oob estimates.\n",
      "  warn(\"Some inputs do not have OOB scores. \"\n",
      "/home/mariusk/anaconda3/lib/python3.7/site-packages/sklearn/ensemble/forest.py:465: RuntimeWarning: invalid value encountered in true_divide\n",
      "  predictions[k].sum(axis=1)[:, np.newaxis])\n",
      "/home/mariusk/anaconda3/lib/python3.7/site-packages/sklearn/ensemble/forest.py:460: UserWarning: Some inputs do not have OOB scores. This probably means too few trees were used to compute any reliable oob estimates.\n",
      "  warn(\"Some inputs do not have OOB scores. \"\n",
      "/home/mariusk/anaconda3/lib/python3.7/site-packages/sklearn/ensemble/forest.py:465: RuntimeWarning: invalid value encountered in true_divide\n",
      "  predictions[k].sum(axis=1)[:, np.newaxis])\n",
      "/home/mariusk/anaconda3/lib/python3.7/site-packages/sklearn/ensemble/forest.py:460: UserWarning: Some inputs do not have OOB scores. This probably means too few trees were used to compute any reliable oob estimates.\n",
      "  warn(\"Some inputs do not have OOB scores. \"\n",
      "/home/mariusk/anaconda3/lib/python3.7/site-packages/sklearn/ensemble/forest.py:465: RuntimeWarning: invalid value encountered in true_divide\n",
      "  predictions[k].sum(axis=1)[:, np.newaxis])\n",
      "/home/mariusk/anaconda3/lib/python3.7/site-packages/sklearn/ensemble/forest.py:460: UserWarning: Some inputs do not have OOB scores. This probably means too few trees were used to compute any reliable oob estimates.\n",
      "  warn(\"Some inputs do not have OOB scores. \"\n",
      "/home/mariusk/anaconda3/lib/python3.7/site-packages/sklearn/ensemble/forest.py:465: RuntimeWarning: invalid value encountered in true_divide\n",
      "  predictions[k].sum(axis=1)[:, np.newaxis])\n",
      "/home/mariusk/anaconda3/lib/python3.7/site-packages/sklearn/ensemble/forest.py:460: UserWarning: Some inputs do not have OOB scores. This probably means too few trees were used to compute any reliable oob estimates.\n",
      "  warn(\"Some inputs do not have OOB scores. \"\n",
      "/home/mariusk/anaconda3/lib/python3.7/site-packages/sklearn/ensemble/forest.py:465: RuntimeWarning: invalid value encountered in true_divide\n",
      "  predictions[k].sum(axis=1)[:, np.newaxis])\n",
      "/home/mariusk/anaconda3/lib/python3.7/site-packages/sklearn/ensemble/forest.py:460: UserWarning: Some inputs do not have OOB scores. This probably means too few trees were used to compute any reliable oob estimates.\n",
      "  warn(\"Some inputs do not have OOB scores. \"\n",
      "/home/mariusk/anaconda3/lib/python3.7/site-packages/sklearn/ensemble/forest.py:465: RuntimeWarning: invalid value encountered in true_divide\n",
      "  predictions[k].sum(axis=1)[:, np.newaxis])\n",
      "/home/mariusk/anaconda3/lib/python3.7/site-packages/sklearn/ensemble/forest.py:460: UserWarning: Some inputs do not have OOB scores. This probably means too few trees were used to compute any reliable oob estimates.\n",
      "  warn(\"Some inputs do not have OOB scores. \"\n",
      "/home/mariusk/anaconda3/lib/python3.7/site-packages/sklearn/ensemble/forest.py:465: RuntimeWarning: invalid value encountered in true_divide\n",
      "  predictions[k].sum(axis=1)[:, np.newaxis])\n",
      "/home/mariusk/anaconda3/lib/python3.7/site-packages/sklearn/ensemble/forest.py:460: UserWarning: Some inputs do not have OOB scores. This probably means too few trees were used to compute any reliable oob estimates.\n",
      "  warn(\"Some inputs do not have OOB scores. \"\n",
      "/home/mariusk/anaconda3/lib/python3.7/site-packages/sklearn/ensemble/forest.py:465: RuntimeWarning: invalid value encountered in true_divide\n",
      "  predictions[k].sum(axis=1)[:, np.newaxis])\n",
      "/home/mariusk/anaconda3/lib/python3.7/site-packages/sklearn/ensemble/forest.py:460: UserWarning: Some inputs do not have OOB scores. This probably means too few trees were used to compute any reliable oob estimates.\n",
      "  warn(\"Some inputs do not have OOB scores. \"\n",
      "/home/mariusk/anaconda3/lib/python3.7/site-packages/sklearn/ensemble/forest.py:465: RuntimeWarning: invalid value encountered in true_divide\n",
      "  predictions[k].sum(axis=1)[:, np.newaxis])\n",
      "/home/mariusk/anaconda3/lib/python3.7/site-packages/sklearn/ensemble/forest.py:460: UserWarning: Some inputs do not have OOB scores. This probably means too few trees were used to compute any reliable oob estimates.\n",
      "  warn(\"Some inputs do not have OOB scores. \"\n",
      "/home/mariusk/anaconda3/lib/python3.7/site-packages/sklearn/ensemble/forest.py:465: RuntimeWarning: invalid value encountered in true_divide\n",
      "  predictions[k].sum(axis=1)[:, np.newaxis])\n",
      "/home/mariusk/anaconda3/lib/python3.7/site-packages/sklearn/ensemble/forest.py:460: UserWarning: Some inputs do not have OOB scores. This probably means too few trees were used to compute any reliable oob estimates.\n",
      "  warn(\"Some inputs do not have OOB scores. \"\n",
      "/home/mariusk/anaconda3/lib/python3.7/site-packages/sklearn/ensemble/forest.py:465: RuntimeWarning: invalid value encountered in true_divide\n",
      "  predictions[k].sum(axis=1)[:, np.newaxis])\n",
      "/home/mariusk/anaconda3/lib/python3.7/site-packages/sklearn/ensemble/forest.py:460: UserWarning: Some inputs do not have OOB scores. This probably means too few trees were used to compute any reliable oob estimates.\n",
      "  warn(\"Some inputs do not have OOB scores. \"\n",
      "/home/mariusk/anaconda3/lib/python3.7/site-packages/sklearn/ensemble/forest.py:465: RuntimeWarning: invalid value encountered in true_divide\n",
      "  predictions[k].sum(axis=1)[:, np.newaxis])\n",
      "/home/mariusk/anaconda3/lib/python3.7/site-packages/sklearn/ensemble/forest.py:460: UserWarning: Some inputs do not have OOB scores. This probably means too few trees were used to compute any reliable oob estimates.\n",
      "  warn(\"Some inputs do not have OOB scores. \"\n",
      "/home/mariusk/anaconda3/lib/python3.7/site-packages/sklearn/ensemble/forest.py:465: RuntimeWarning: invalid value encountered in true_divide\n",
      "  predictions[k].sum(axis=1)[:, np.newaxis])\n",
      "/home/mariusk/anaconda3/lib/python3.7/site-packages/sklearn/ensemble/forest.py:460: UserWarning: Some inputs do not have OOB scores. This probably means too few trees were used to compute any reliable oob estimates.\n",
      "  warn(\"Some inputs do not have OOB scores. \"\n",
      "/home/mariusk/anaconda3/lib/python3.7/site-packages/sklearn/ensemble/forest.py:465: RuntimeWarning: invalid value encountered in true_divide\n",
      "  predictions[k].sum(axis=1)[:, np.newaxis])\n",
      "/home/mariusk/anaconda3/lib/python3.7/site-packages/sklearn/ensemble/forest.py:460: UserWarning: Some inputs do not have OOB scores. This probably means too few trees were used to compute any reliable oob estimates.\n",
      "  warn(\"Some inputs do not have OOB scores. \"\n",
      "/home/mariusk/anaconda3/lib/python3.7/site-packages/sklearn/ensemble/forest.py:465: RuntimeWarning: invalid value encountered in true_divide\n",
      "  predictions[k].sum(axis=1)[:, np.newaxis])\n",
      "/home/mariusk/anaconda3/lib/python3.7/site-packages/sklearn/ensemble/forest.py:460: UserWarning: Some inputs do not have OOB scores. This probably means too few trees were used to compute any reliable oob estimates.\n",
      "  warn(\"Some inputs do not have OOB scores. \"\n",
      "/home/mariusk/anaconda3/lib/python3.7/site-packages/sklearn/ensemble/forest.py:465: RuntimeWarning: invalid value encountered in true_divide\n",
      "  predictions[k].sum(axis=1)[:, np.newaxis])\n",
      "/home/mariusk/anaconda3/lib/python3.7/site-packages/sklearn/ensemble/forest.py:460: UserWarning: Some inputs do not have OOB scores. This probably means too few trees were used to compute any reliable oob estimates.\n",
      "  warn(\"Some inputs do not have OOB scores. \"\n",
      "/home/mariusk/anaconda3/lib/python3.7/site-packages/sklearn/ensemble/forest.py:465: RuntimeWarning: invalid value encountered in true_divide\n",
      "  predictions[k].sum(axis=1)[:, np.newaxis])\n",
      "/home/mariusk/anaconda3/lib/python3.7/site-packages/sklearn/ensemble/forest.py:460: UserWarning: Some inputs do not have OOB scores. This probably means too few trees were used to compute any reliable oob estimates.\n",
      "  warn(\"Some inputs do not have OOB scores. \"\n",
      "/home/mariusk/anaconda3/lib/python3.7/site-packages/sklearn/ensemble/forest.py:465: RuntimeWarning: invalid value encountered in true_divide\n",
      "  predictions[k].sum(axis=1)[:, np.newaxis])\n",
      "/home/mariusk/anaconda3/lib/python3.7/site-packages/sklearn/ensemble/forest.py:460: UserWarning: Some inputs do not have OOB scores. This probably means too few trees were used to compute any reliable oob estimates.\n",
      "  warn(\"Some inputs do not have OOB scores. \"\n",
      "/home/mariusk/anaconda3/lib/python3.7/site-packages/sklearn/ensemble/forest.py:465: RuntimeWarning: invalid value encountered in true_divide\n",
      "  predictions[k].sum(axis=1)[:, np.newaxis])\n",
      "/home/mariusk/anaconda3/lib/python3.7/site-packages/sklearn/ensemble/forest.py:460: UserWarning: Some inputs do not have OOB scores. This probably means too few trees were used to compute any reliable oob estimates.\n",
      "  warn(\"Some inputs do not have OOB scores. \"\n",
      "/home/mariusk/anaconda3/lib/python3.7/site-packages/sklearn/ensemble/forest.py:465: RuntimeWarning: invalid value encountered in true_divide\n",
      "  predictions[k].sum(axis=1)[:, np.newaxis])\n",
      "/home/mariusk/anaconda3/lib/python3.7/site-packages/sklearn/ensemble/forest.py:460: UserWarning: Some inputs do not have OOB scores. This probably means too few trees were used to compute any reliable oob estimates.\n",
      "  warn(\"Some inputs do not have OOB scores. \"\n",
      "/home/mariusk/anaconda3/lib/python3.7/site-packages/sklearn/ensemble/forest.py:465: RuntimeWarning: invalid value encountered in true_divide\n",
      "  predictions[k].sum(axis=1)[:, np.newaxis])\n"
     ]
    },
    {
     "name": "stdout",
     "output_type": "stream",
     "text": [
      "0.8279301862892839\n",
      "{'max_features': None, 'min_samples_leaf': 4, 'n_estimators': 10}\n"
     ]
    },
    {
     "name": "stderr",
     "output_type": "stream",
     "text": [
      "/home/mariusk/anaconda3/lib/python3.7/site-packages/sklearn/ensemble/forest.py:460: UserWarning: Some inputs do not have OOB scores. This probably means too few trees were used to compute any reliable oob estimates.\n",
      "  warn(\"Some inputs do not have OOB scores. \"\n",
      "/home/mariusk/anaconda3/lib/python3.7/site-packages/sklearn/ensemble/forest.py:465: RuntimeWarning: invalid value encountered in true_divide\n",
      "  predictions[k].sum(axis=1)[:, np.newaxis])\n"
     ]
    }
   ],
   "source": [
    "# Grid search for best parameters\n",
    "rf = RandomForestClassifier(random_state=42, oob_score = True, class_weight = \"balanced\")\n",
    "\n",
    "parameters = dict(n_estimators=[10, 50, 100, 200],\\\n",
    "              max_features=[\"sqrt\",\"log2\", None],\\\n",
    "              min_samples_leaf=[1,2,3,4,5])\n",
    "\n",
    "grid = GridSearchCV(rf, param_grid = parameters, scoring='f1')\n",
    "grid.fit(features, diagnosis)\n",
    "\n",
    "#scores for all parameter combinations are available in grid.grid_scores_\n",
    "best_estimator = grid.best_estimator_\n",
    "print(grid.best_score_)\n",
    "print(grid.best_params_)"
   ]
  },
  {
   "cell_type": "code",
   "execution_count": null,
   "metadata": {},
   "outputs": [],
   "source": []
  }
 ],
 "metadata": {
  "kernelspec": {
   "display_name": "Python 3",
   "language": "python",
   "name": "python3"
  },
  "language_info": {
   "codemirror_mode": {
    "name": "ipython",
    "version": 3
   },
   "file_extension": ".py",
   "mimetype": "text/x-python",
   "name": "python",
   "nbconvert_exporter": "python",
   "pygments_lexer": "ipython3",
   "version": "3.7.3"
  }
 },
 "nbformat": 4,
 "nbformat_minor": 4
}
